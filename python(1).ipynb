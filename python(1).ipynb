{
 "cells": [
  {
   "cell_type": "code",
   "execution_count": 3,
   "id": "758dd96f",
   "metadata": {},
   "outputs": [],
   "source": [
    "data={}\n",
    "\n",
    "def signup():\n",
    "    username=input(\"enter your name\")\n",
    "    password=input(\"enter nypur password\")\n",
    "    data.update({username:password})\n",
    "    print(\"created sucessfully\")\n",
    "    \n",
    "def login():\n",
    "    username=input(\"enter your name\")\n",
    "    for n in data:\n",
    "        if n==username:\n",
    "            password=input(\"enter your password:\")\n",
    "            if password==data[username]:\n",
    "                print(data)\n",
    "                print(\"login sucessfully\")\n",
    "                activity()\n",
    "            else:\n",
    "                print(\"invalid password\")\n",
    "        else:\n",
    "                print(\"invalid username\")\n",
    "                \n",
    "def activity():\n",
    "    balance=20000\n",
    "    \n",
    "    while True:\n",
    "        print(\"[1]balance\\t[2]deposit\\[3]widthdraw\\t[4]total\")\n",
    "        option=input(\"enter the option:\")\n",
    "        \n",
    "        if option==\"1\":\n",
    "            print(\"your balance:\",balance)\n",
    "        elif option==\"2\":\n",
    "            login()\n",
    "        else:\n",
    "            print(\"invalid function\")\n",
    "                "
   ]
  },
  {
   "cell_type": "code",
   "execution_count": 12,
   "id": "fab6166c",
   "metadata": {},
   "outputs": [
    {
     "name": "stdout",
     "output_type": "stream",
     "text": [
      "Name: jessica Salary: 100000\n",
      "Name: jessica Salary: 100000\n"
     ]
    }
   ],
   "source": [
    "#encapsulation\n",
    "class Employee:\n",
    "    #constructor\n",
    "    def __init__(self,name,salary):\n",
    "        #public data members\n",
    "        self.name = name\n",
    "        self.salary = salary\n",
    "        \n",
    "    #public instance methods\n",
    "    def show(self):\n",
    "        #accesing public data member\n",
    "        print(\"Name:\", self.name,'Salary:', self.salary)\n",
    "        \n",
    "#creating object of a class\n",
    "emp = Employee('jessica',100000)\n",
    "\n",
    "#accessing public data members\n",
    "print(\"Name:\", emp.name,'Salary:', emp.salary)\n",
    "\n",
    "#calling public method of the class\n",
    "emp.show()"
   ]
  },
  {
   "cell_type": "code",
   "execution_count": 15,
   "id": "08567ff5",
   "metadata": {},
   "outputs": [
    {
     "ename": "TypeError",
     "evalue": "Can't instantiate abstract class a with abstract method method1",
     "output_type": "error",
     "traceback": [
      "\u001b[1;31m---------------------------------------------------------------------------\u001b[0m",
      "\u001b[1;31mTypeError\u001b[0m                                 Traceback (most recent call last)",
      "Cell \u001b[1;32mIn[15], line 12\u001b[0m\n\u001b[0;32m      9\u001b[0m     \u001b[38;5;28;01mdef\u001b[39;00m \u001b[38;5;21madhi\u001b[39m(\u001b[38;5;28mself\u001b[39m):\n\u001b[0;32m     10\u001b[0m         \u001b[38;5;28mprint\u001b[39m(\u001b[38;5;124m\"\u001b[39m\u001b[38;5;124mhai\u001b[39m\u001b[38;5;124m\"\u001b[39m)\n\u001b[1;32m---> 12\u001b[0m obj\u001b[38;5;241m=\u001b[39ma()\n\u001b[0;32m     13\u001b[0m obj\u001b[38;5;241m.\u001b[39mmethod1()\n\u001b[0;32m     15\u001b[0m obj\u001b[38;5;241m=\u001b[39mb()\n",
      "\u001b[1;31mTypeError\u001b[0m: Can't instantiate abstract class a with abstract method method1"
     ]
    }
   ],
   "source": [
    "#data abstraction\n",
    "from abc import ABC,abstractmethod\n",
    "class a(ABC):\n",
    "    @abstractmethod\n",
    "    def method1(self):\n",
    "     print(\"hello\")\n",
    "    \n",
    "class b():\n",
    "    def adhi(self):\n",
    "        print(\"hai\")\n",
    "        \n",
    "obj=a()\n",
    "obj.method1()\n",
    "\n",
    "obj=b()\n",
    "obj.adhi()"
   ]
  },
  {
   "cell_type": "code",
   "execution_count": 16,
   "id": "ea9f591c",
   "metadata": {},
   "outputs": [
    {
     "name": "stdout",
     "output_type": "stream",
     "text": [
      "I am from chennai\n",
      "hai\n",
      "I am from class B\n"
     ]
    }
   ],
   "source": [
    "from abc import ABC,abstractmethod\n",
    "\n",
    "class a(ABC):\n",
    "    @abstractmethod\n",
    "    def method1(self):\n",
    "        print(\"I am from cbe\")\n",
    "        pass\n",
    "    def method2(self):\n",
    "        print(\"I am from chennai\")\n",
    "    \n",
    "class b(a):\n",
    "    def method1(self):\n",
    "        print(\"I am from class B\")\n",
    "    def method3(self):\n",
    "        print(\"hai\")\n",
    "        \n",
    "        \n",
    "obj=b()\n",
    "obj.method2()\n",
    "obj.method3()\n",
    "obj.method1()"
   ]
  },
  {
   "cell_type": "code",
   "execution_count": 17,
   "id": "74ea02dc",
   "metadata": {},
   "outputs": [
    {
     "name": "stdout",
     "output_type": "stream",
     "text": [
      "details: car x1 red 20000\n",
      "car max speed is 240\n",
      "car change 7 gear\n",
      "details: truck x1 white 75000\n",
      "vehicle max speed is 150\n",
      "vehicle change 6 gear\n"
     ]
    }
   ],
   "source": [
    "#polymorphism\n",
    "class vehicle:\n",
    "    def __init__(self,name,color,price):\n",
    "        self.name = name\n",
    "        self.color = color\n",
    "        self.price = price\n",
    "    def show(self):\n",
    "        print('details:',self.name,self.color,self.price)\n",
    "    \n",
    "    def max_speed(self):\n",
    "        print('vehicle max speed is 150')\n",
    "    def change_gear(self):\n",
    "        print('vehicle change 6 gear')\n",
    "        \n",
    "#inherit from vehicle class\n",
    "class car(vehicle):\n",
    "    def max_speed(self):\n",
    "        print('car max speed is 240')\n",
    "    def change_gear(self):\n",
    "        print('car change 7 gear')\n",
    "        \n",
    "#car object\n",
    "car = car('car x1','red',20000)\n",
    "car.show()\n",
    "#calls methods from car class\n",
    "car.max_speed()\n",
    "car.change_gear()\n",
    "\n",
    "#vehicle object\n",
    "vehicle = vehicle('truck x1','white',75000)\n",
    "vehicle.show()\n",
    "#calls method from a vehicle class\n",
    "vehicle.max_speed()\n",
    "vehicle.change_gear()"
   ]
  },
  {
   "cell_type": "code",
   "execution_count": 25,
   "id": "8e3c908b",
   "metadata": {},
   "outputs": [
    {
     "name": "stdout",
     "output_type": "stream",
     "text": [
      "15\n"
     ]
    }
   ],
   "source": [
    "#methodoverloading\n",
    "def addition(a,b):\n",
    "    c = a + b\n",
    "    print(c)\n",
    "    \n",
    "def addition(a,b,c):\n",
    "    d = a + b + c\n",
    "    print(d)\n",
    "    \n",
    "#the below line show an error\n",
    "#addition(4,5)\n",
    "\n",
    "#this line will call the second product method\n",
    "addition(3,7,5)"
   ]
  },
  {
   "cell_type": "code",
   "execution_count": 26,
   "id": "99b7cc61",
   "metadata": {},
   "outputs": [
    {
     "name": "stdout",
     "output_type": "stream",
     "text": [
      "hello,adish!\n"
     ]
    }
   ],
   "source": [
    "class parent:\n",
    "    def __init__(self,name):\n",
    "        self.name = name\n",
    "    def greet(self):\n",
    "        print(f'hello,{self.name}!')\n",
    "    \n",
    "class child(parent):\n",
    "    def __init__(self,name,age):\n",
    "        super().__init__(name)\n",
    "        self.age = age\n",
    "        \n",
    "child = child(\"adish\",10)\n",
    "child.greet()"
   ]
  },
  {
   "cell_type": "code",
   "execution_count": 27,
   "id": "3fbae420",
   "metadata": {},
   "outputs": [],
   "source": [
    "#iterator\n",
    "#there are two methods of iterating the value in the lists\n",
    "#iter()method\n",
    "#next() or a.__next__()\n"
   ]
  },
  {
   "cell_type": "code",
   "execution_count": 28,
   "id": "3c897b1e",
   "metadata": {},
   "outputs": [
    {
     "name": "stdout",
     "output_type": "stream",
     "text": [
      "[1, 2, 3, 4, 5, 'hai']\n",
      "3\n",
      "hai\n"
     ]
    }
   ],
   "source": [
    "list1=[1,2,3,4,5,\"hai\"]\n",
    "print(list1)\n",
    "print(list1[2])\n",
    "print(list1[5])"
   ]
  },
  {
   "cell_type": "code",
   "execution_count": 29,
   "id": "eaefa995",
   "metadata": {},
   "outputs": [
    {
     "name": "stdout",
     "output_type": "stream",
     "text": [
      "1\n",
      "2\n",
      "3\n",
      "4\n",
      "5\n",
      "hai\n"
     ]
    }
   ],
   "source": [
    "for i in list1:\n",
    "    print(i)"
   ]
  },
  {
   "cell_type": "code",
   "execution_count": 30,
   "id": "14d52088",
   "metadata": {},
   "outputs": [
    {
     "name": "stdout",
     "output_type": "stream",
     "text": [
      "<list_iterator object at 0x000001BF7E683E50>\n"
     ]
    }
   ],
   "source": [
    "#iter\n",
    "list1=[1,2,3,4,5,\"hai\"]\n",
    "ite = iter(list1)\n",
    "print(ite)\n"
   ]
  },
  {
   "cell_type": "code",
   "execution_count": 31,
   "id": "a11599f7",
   "metadata": {},
   "outputs": [
    {
     "name": "stdout",
     "output_type": "stream",
     "text": [
      "1\n",
      "2\n",
      "3\n",
      "4\n"
     ]
    }
   ],
   "source": [
    "#next\n",
    "list1=[1,2,3,4,5,\"hai\"]\n",
    "ite=iter(list1)\n",
    "print(next(ite))\n",
    "print(next(ite))\n",
    "print(next(ite))\n",
    "print(next(ite))"
   ]
  },
  {
   "cell_type": "code",
   "execution_count": 32,
   "id": "279e1e45",
   "metadata": {},
   "outputs": [
    {
     "name": "stdout",
     "output_type": "stream",
     "text": [
      "5\n"
     ]
    }
   ],
   "source": [
    "print(ite.__next__())"
   ]
  },
  {
   "cell_type": "code",
   "execution_count": 33,
   "id": "25f38fca",
   "metadata": {},
   "outputs": [
    {
     "name": "stdout",
     "output_type": "stream",
     "text": [
      "hai\n"
     ]
    }
   ],
   "source": [
    "print(ite.__next__())"
   ]
  },
  {
   "cell_type": "code",
   "execution_count": 34,
   "id": "e2f52e3d",
   "metadata": {},
   "outputs": [
    {
     "ename": "StopIteration",
     "evalue": "",
     "output_type": "error",
     "traceback": [
      "\u001b[1;31m---------------------------------------------------------------------------\u001b[0m",
      "\u001b[1;31mStopIteration\u001b[0m                             Traceback (most recent call last)",
      "Cell \u001b[1;32mIn[34], line 1\u001b[0m\n\u001b[1;32m----> 1\u001b[0m \u001b[38;5;28mprint\u001b[39m(ite\u001b[38;5;241m.\u001b[39m\u001b[38;5;21m__next__\u001b[39m())\n",
      "\u001b[1;31mStopIteration\u001b[0m: "
     ]
    }
   ],
   "source": [
    "print(ite.__next__())"
   ]
  },
  {
   "cell_type": "code",
   "execution_count": 42,
   "id": "f87fb4a0",
   "metadata": {},
   "outputs": [
    {
     "name": "stdout",
     "output_type": "stream",
     "text": [
      "4\n",
      "5\n",
      "6\n"
     ]
    }
   ],
   "source": [
    "def looping(value):\n",
    "    It1=iter(value)\n",
    "    while True:\n",
    "        try:\n",
    "            item=next(It1)\n",
    "        except StopIteration:\n",
    "            break\n",
    "        else:\n",
    "            print(item)\n",
    "looping([4,5,6])"
   ]
  },
  {
   "cell_type": "code",
   "execution_count": 56,
   "id": "5b76795e",
   "metadata": {},
   "outputs": [
    {
     "ename": "TypeError",
     "evalue": "__init__() should return None, not 'ten'",
     "output_type": "error",
     "traceback": [
      "\u001b[1;31m---------------------------------------------------------------------------\u001b[0m",
      "\u001b[1;31mTypeError\u001b[0m                                 Traceback (most recent call last)",
      "Cell \u001b[1;32mIn[56], line 16\u001b[0m\n\u001b[0;32m     13\u001b[0m         \u001b[38;5;28;01melse\u001b[39;00m:\n\u001b[0;32m     14\u001b[0m             \u001b[38;5;28;01mraise\u001b[39;00m \u001b[38;5;167;01mStopIteration\u001b[39;00m\n\u001b[1;32m---> 16\u001b[0m obj\u001b[38;5;241m=\u001b[39mten()\n\u001b[0;32m     18\u001b[0m \u001b[38;5;28;01mfor\u001b[39;00m i \u001b[38;5;129;01min\u001b[39;00m obj:\n\u001b[0;32m     19\u001b[0m     \u001b[38;5;28mprint\u001b[39m(i)\n",
      "\u001b[1;31mTypeError\u001b[0m: __init__() should return None, not 'ten'"
     ]
    }
   ],
   "source": [
    "class ten:\n",
    "    def __init__(self):\n",
    "        self.num=1\n",
    "        \n",
    "    def __init__(self):\n",
    "        return self\n",
    "    \n",
    "    def __next__(self):\n",
    "        if self.num<=10:\n",
    "            value=self.num\n",
    "            self.num+=1\n",
    "            return value\n",
    "        else:\n",
    "            raise StopIteration\n",
    "            \n",
    "obj=ten()\n",
    "\n",
    "for i in obj:\n",
    "    print(i)"
   ]
  },
  {
   "cell_type": "code",
   "execution_count": 48,
   "id": "b60084f9",
   "metadata": {},
   "outputs": [
    {
     "data": {
      "text/plain": [
       "5"
      ]
     },
     "execution_count": 48,
     "metadata": {},
     "output_type": "execute_result"
    }
   ],
   "source": [
    "#genrator \n",
    "def hai():\n",
    "    return 5\n",
    "hai()"
   ]
  },
  {
   "cell_type": "code",
   "execution_count": 49,
   "id": "4a549680",
   "metadata": {},
   "outputs": [
    {
     "data": {
      "text/plain": [
       "<generator object hai at 0x000001BF7F67CB40>"
      ]
     },
     "execution_count": 49,
     "metadata": {},
     "output_type": "execute_result"
    }
   ],
   "source": [
    "def hai():\n",
    "    yield 5\n",
    "hai()"
   ]
  },
  {
   "cell_type": "code",
   "execution_count": 50,
   "id": "0d9cf895",
   "metadata": {},
   "outputs": [
    {
     "data": {
      "text/plain": [
       "5"
      ]
     },
     "execution_count": 50,
     "metadata": {},
     "output_type": "execute_result"
    }
   ],
   "source": [
    "def hai():\n",
    "    yield 5\n",
    "\n",
    "person=hai()\n",
    "person.__next__()"
   ]
  },
  {
   "cell_type": "code",
   "execution_count": 51,
   "id": "2cb1ac44",
   "metadata": {},
   "outputs": [
    {
     "name": "stdout",
     "output_type": "stream",
     "text": [
      "1\n",
      "2\n"
     ]
    }
   ],
   "source": [
    "def num():\n",
    "    yield 1\n",
    "    yield 2\n",
    "    yield 3\n",
    "    yield 4\n",
    "    yield 5\n",
    "    \n",
    "obj=num()\n",
    "print(obj.__next__())\n",
    "print(obj.__next__())"
   ]
  },
  {
   "cell_type": "code",
   "execution_count": 54,
   "id": "00fe9dfe",
   "metadata": {},
   "outputs": [
    {
     "name": "stdout",
     "output_type": "stream",
     "text": [
      "1\n",
      "2\n",
      "3\n",
      "4\n",
      "5\n"
     ]
    }
   ],
   "source": [
    "def num():\n",
    "    yield 1\n",
    "    yield 2\n",
    "    yield 3\n",
    "    yield 4\n",
    "    yield 5\n",
    "    \n",
    "obj=num()\n",
    "print(next(obj))\n",
    "\n",
    "for i in obj:\n",
    "    print(i)"
   ]
  },
  {
   "cell_type": "code",
   "execution_count": 61,
   "id": "78ff994c",
   "metadata": {},
   "outputs": [
    {
     "name": "stdout",
     "output_type": "stream",
     "text": [
      "0\n",
      "2\n",
      "4\n",
      "6\n",
      "8\n"
     ]
    }
   ],
   "source": [
    "def sample():\n",
    "    \n",
    "    for i in range(10):\n",
    "        if(i%2==0):\n",
    "            yield i\n",
    "            \n",
    "x=sample()\n",
    "print(x.__next__())\n",
    "print(x.__next__())\n",
    "for i in x:\n",
    "    print(i)\n",
    "    "
   ]
  },
  {
   "cell_type": "code",
   "execution_count": 62,
   "id": "4bf3ac15",
   "metadata": {},
   "outputs": [],
   "source": [
    "#lambda function which is anonyumns function\n"
   ]
  },
  {
   "cell_type": "code",
   "execution_count": 63,
   "id": "ca1142d0",
   "metadata": {},
   "outputs": [
    {
     "name": "stdout",
     "output_type": "stream",
     "text": [
      "myself vaishu\n"
     ]
    }
   ],
   "source": [
    "#normal function\n",
    "def name():\n",
    "    print(\"myself vaishu\")\n",
    "    \n",
    "name()"
   ]
  },
  {
   "cell_type": "code",
   "execution_count": 64,
   "id": "761b4c6c",
   "metadata": {},
   "outputs": [
    {
     "name": "stdout",
     "output_type": "stream",
     "text": [
      "name is kuttu\n"
     ]
    }
   ],
   "source": [
    "def name(my):\n",
    "    print(\"name is\",my)\n",
    "    \n",
    "name(\"kuttu\")"
   ]
  },
  {
   "cell_type": "code",
   "execution_count": 65,
   "id": "aa3b7b0d",
   "metadata": {},
   "outputs": [
    {
     "name": "stdout",
     "output_type": "stream",
     "text": [
      "hi everyone\n"
     ]
    }
   ],
   "source": [
    "message = lambda : print(\"hi everyone\")\n",
    "message()"
   ]
  },
  {
   "cell_type": "code",
   "execution_count": 66,
   "id": "029f1918",
   "metadata": {},
   "outputs": [
    {
     "name": "stdout",
     "output_type": "stream",
     "text": [
      "hi everyone from vaishu\n"
     ]
    }
   ],
   "source": [
    "message = lambda name: print(\"hi everyone\",name)\n",
    "message(\"from vaishu\")"
   ]
  },
  {
   "cell_type": "code",
   "execution_count": 67,
   "id": "c6fb77ce",
   "metadata": {},
   "outputs": [
    {
     "name": "stdout",
     "output_type": "stream",
     "text": [
      "15\n"
     ]
    }
   ],
   "source": [
    "def add(a):\n",
    "    return a+10\n",
    "\n",
    "ans = add(5)\n",
    "print(ans)"
   ]
  },
  {
   "cell_type": "code",
   "execution_count": 68,
   "id": "9a948dfe",
   "metadata": {},
   "outputs": [
    {
     "name": "stdout",
     "output_type": "stream",
     "text": [
      "12\n"
     ]
    }
   ],
   "source": [
    "value = lambda a: a+10\n",
    "print (value(2))"
   ]
  },
  {
   "cell_type": "code",
   "execution_count": 70,
   "id": "06614730",
   "metadata": {},
   "outputs": [
    {
     "name": "stdout",
     "output_type": "stream",
     "text": [
      "20\n"
     ]
    }
   ],
   "source": [
    "value= lambda a,b: a*b\n",
    "print (value(4,5))"
   ]
  },
  {
   "cell_type": "code",
   "execution_count": 71,
   "id": "09a8f5b5",
   "metadata": {},
   "outputs": [],
   "source": [
    "#map() method\n",
    "#syntax:map(funtion,iterables)"
   ]
  },
  {
   "cell_type": "code",
   "execution_count": 72,
   "id": "2f2c85ee",
   "metadata": {},
   "outputs": [
    {
     "name": "stdout",
     "output_type": "stream",
     "text": [
      "[2, 4, 6, 8, 10]\n",
      "<map object at 0x000001BF7E8F00A0>\n"
     ]
    }
   ],
   "source": [
    "def addition(n):\n",
    "    return n+n\n",
    "numbers=(1,2,3,4,5)\n",
    "result= map(addition,numbers)\n",
    "print(list(result))\n",
    "print (result)"
   ]
  },
  {
   "cell_type": "code",
   "execution_count": 75,
   "id": "f9a20aec",
   "metadata": {},
   "outputs": [
    {
     "name": "stdout",
     "output_type": "stream",
     "text": [
      "[2, 4, 6, 8]\n"
     ]
    }
   ],
   "source": [
    "numbers=(1,2,3,4)\n",
    "result=map(lambda x:x+x,numbers)\n",
    "print(list(result))"
   ]
  },
  {
   "cell_type": "code",
   "execution_count": 76,
   "id": "3e2f2d5a",
   "metadata": {},
   "outputs": [
    {
     "name": "stdout",
     "output_type": "stream",
     "text": [
      "[50, 53.3, 78]\n"
     ]
    }
   ],
   "source": [
    "numbers1=[10,20.30,23]\n",
    "numbers2=[40,33,55,57]\n",
    "\n",
    "result=map(lambda x,y:x+y,numbers1,numbers2)\n",
    "print(list(result))"
   ]
  },
  {
   "cell_type": "code",
   "execution_count": 77,
   "id": "ae7266e9",
   "metadata": {},
   "outputs": [
    {
     "name": "stdout",
     "output_type": "stream",
     "text": [
      "['odd', 'even', 'odd', 'even', 'odd']\n"
     ]
    }
   ],
   "source": [
    "def even (num):\n",
    "    if num%2==0:\n",
    "        return \"even\"\n",
    "    else:\n",
    "        return \"odd\"\n",
    "    \n",
    "numbers = [1,2,3,4,5]\n",
    "result = list(map(even,numbers))\n",
    "print(result)"
   ]
  },
  {
   "cell_type": "code",
   "execution_count": 78,
   "id": "6daa82d0",
   "metadata": {},
   "outputs": [
    {
     "name": "stdout",
     "output_type": "stream",
     "text": [
      "<filter object at 0x000001BF7EB654E0>\n",
      "[2, 4]\n"
     ]
    }
   ],
   "source": [
    "#filter(function,iterables)\n",
    "\n",
    "def even(num):\n",
    "    if num%2==0:\n",
    "        return True\n",
    "    else:\n",
    "        return False\n",
    "numbers = [1,2,3,4,5]\n",
    "filtered = filter(even,numbers)\n",
    "\n",
    "print(filtered)\n",
    "print(list(filtered))"
   ]
  },
  {
   "cell_type": "code",
   "execution_count": 79,
   "id": "999eacbb",
   "metadata": {},
   "outputs": [
    {
     "name": "stdout",
     "output_type": "stream",
     "text": [
      "19\n",
      "24\n",
      "34\n"
     ]
    }
   ],
   "source": [
    "ages =[5,12,17,19,24,34]\n",
    "def myfunc(x):\n",
    "    if x>=18:\n",
    "        return True\n",
    "    else:\n",
    "        return False\n",
    "    \n",
    "adults= filter(myfunc,ages)\n",
    "\n",
    "for x in adults:\n",
    "    print(x)"
   ]
  },
  {
   "cell_type": "code",
   "execution_count": 80,
   "id": "9bcbb8e3",
   "metadata": {},
   "outputs": [
    {
     "name": "stdout",
     "output_type": "stream",
     "text": [
      "[1, 3, 5, 7, 9]\n",
      "[0, 2, 4, 6, 8]\n"
     ]
    }
   ],
   "source": [
    "#filter using lambda function\n",
    "avg = [0,1,2,3,4,5,6,7,8,9]\n",
    "\n",
    "result = filter(lambda x:x%2 !=0,avg)\n",
    "print (list(result))\n",
    "\n",
    "result = filter(lambda x:x%2 == 0,avg)\n",
    "print (list(result))"
   ]
  },
  {
   "cell_type": "code",
   "execution_count": 88,
   "id": "cedcad7f",
   "metadata": {},
   "outputs": [
    {
     "name": "stdout",
     "output_type": "stream",
     "text": [
      "www.linkedin.com/in/goutham-ramalingam\n",
      "\n"
     ]
    }
   ],
   "source": [
    " #file handing \n",
    "import os\n",
    "\n",
    "f= open(\"C:/Users/Goutham R/Desktop/sample/file.txt\",\"r\")\n",
    "print(f.read())\n",
    "f.close()"
   ]
  },
  {
   "cell_type": "code",
   "execution_count": 89,
   "id": "db193007",
   "metadata": {},
   "outputs": [
    {
     "name": "stdout",
     "output_type": "stream",
     "text": [
      "www.lin\n"
     ]
    }
   ],
   "source": [
    "import os\n",
    "\n",
    "f= open(\"C:/Users/Goutham R/Desktop/sample/file.txt\",\"r\")\n",
    "print(f.read(7))\n",
    "f.close()"
   ]
  },
  {
   "cell_type": "code",
   "execution_count": 90,
   "id": "c75cf1de",
   "metadata": {},
   "outputs": [
    {
     "name": "stdout",
     "output_type": "stream",
     "text": [
      "www.linkedin.com/in/goutham-ramalingam\n",
      "\n"
     ]
    }
   ],
   "source": [
    "import os\n",
    "\n",
    "f= open(\"C:/Users/Goutham R/Desktop/sample/file.txt\",\"r\")\n",
    "print(f.readline())\n",
    "f.close()"
   ]
  },
  {
   "cell_type": "code",
   "execution_count": 91,
   "id": "decaf9a0",
   "metadata": {},
   "outputs": [
    {
     "name": "stdout",
     "output_type": "stream",
     "text": [
      "['www.linkedin.com/in/goutham-ramalingam\\n']\n"
     ]
    }
   ],
   "source": [
    "import os\n",
    "\n",
    "f= open(\"C:/Users/Goutham R/Desktop/sample/file.txt\",\"r\")\n",
    "print(f.readlines())\n",
    "f.close()"
   ]
  },
  {
   "cell_type": "code",
   "execution_count": 92,
   "id": "6be4c338",
   "metadata": {},
   "outputs": [
    {
     "name": "stdout",
     "output_type": "stream",
     "text": [
      "www.\n"
     ]
    }
   ],
   "source": [
    "import os\n",
    "\n",
    "f= open(\"C:/Users/Goutham R/Desktop/sample/file.txt\",\"r\")\n",
    "print(f.readline(4))\n",
    "f.close()"
   ]
  },
  {
   "cell_type": "code",
   "execution_count": 97,
   "id": "464cf1db",
   "metadata": {},
   "outputs": [],
   "source": [
    "import os\n",
    "\n",
    "f= open(\"C:/Users/Goutham R/Desktop/sample/file.txt\",\"w\")\n",
    "f.write(\" hai goutham\")\n",
    "\n",
    "f.close()"
   ]
  },
  {
   "cell_type": "code",
   "execution_count": 98,
   "id": "4cec54db",
   "metadata": {},
   "outputs": [
    {
     "name": "stdout",
     "output_type": "stream",
     "text": [
      " hai goutham\n"
     ]
    }
   ],
   "source": [
    "import os\n",
    "\n",
    "f= open(\"C:/Users/Goutham R/Desktop/sample/file.txt\",\"r\")\n",
    "print(f.read())\n",
    "f.close()"
   ]
  },
  {
   "cell_type": "code",
   "execution_count": 3,
   "id": "5749f5b5",
   "metadata": {},
   "outputs": [],
   "source": [
    "import requests\n"
   ]
  },
  {
   "cell_type": "code",
   "execution_count": 15,
   "id": "43851848",
   "metadata": {},
   "outputs": [],
   "source": [
    "import requests"
   ]
  },
  {
   "cell_type": "code",
   "execution_count": 13,
   "id": "82a17785",
   "metadata": {},
   "outputs": [],
   "source": [
    "from bs4 import BeautifulSoup"
   ]
  },
  {
   "cell_type": "code",
   "execution_count": 5,
   "id": "f821d40e",
   "metadata": {},
   "outputs": [],
   "source": [
    "search=\"weather in ooty\""
   ]
  },
  {
   "cell_type": "code",
   "execution_count": 6,
   "id": "bf3fcb02",
   "metadata": {},
   "outputs": [],
   "source": [
    "url = f\"https://www.google.co.in/search?q={search}\""
   ]
  },
  {
   "cell_type": "code",
   "execution_count": 17,
   "id": "1c96aa96",
   "metadata": {},
   "outputs": [],
   "source": [
    "import re\n",
    "import requests\n",
    "r = requests.get(url)"
   ]
  },
  {
   "cell_type": "code",
   "execution_count": 18,
   "id": "ad0abef8",
   "metadata": {},
   "outputs": [],
   "source": [
    "data = BeautifulSoup(r.text,\"html.parser\")"
   ]
  },
  {
   "cell_type": "code",
   "execution_count": 19,
   "id": "799ee3b6",
   "metadata": {},
   "outputs": [],
   "source": [
    "update = data.find(\"div\",class_=\"BNeawe\").text"
   ]
  },
  {
   "cell_type": "code",
   "execution_count": 20,
   "id": "e4583a2b",
   "metadata": {},
   "outputs": [
    {
     "name": "stdout",
     "output_type": "stream",
     "text": [
      "20°C\n"
     ]
    }
   ],
   "source": [
    "print(update)"
   ]
  },
  {
   "cell_type": "code",
   "execution_count": null,
   "id": "eebf43de",
   "metadata": {},
   "outputs": [],
   "source": []
  }
 ],
 "metadata": {
  "kernelspec": {
   "display_name": "Python 3 (ipykernel)",
   "language": "python",
   "name": "python3"
  },
  "language_info": {
   "codemirror_mode": {
    "name": "ipython",
    "version": 3
   },
   "file_extension": ".py",
   "mimetype": "text/x-python",
   "name": "python",
   "nbconvert_exporter": "python",
   "pygments_lexer": "ipython3",
   "version": "3.11.5"
  }
 },
 "nbformat": 4,
 "nbformat_minor": 5
}
