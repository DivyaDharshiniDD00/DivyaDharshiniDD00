{
 "cells": [
  {
   "cell_type": "code",
   "execution_count": null,
   "id": "91a2ca5b",
   "metadata": {},
   "outputs": [],
   "source": [
    "sci pi is a collection of mathematical algorithms and convenice function built on the numpy extension of python.\n",
    "with high-level commands and classes for manipulation and visualization data \n",
    "\n",
    "The additional benefits of basic SCIPY on python is that ,this also makes a powerful programming language available for \n",
    "use in developing sophisticated programs and specialised applications."
   ]
  },
  {
   "cell_type": "code",
   "execution_count": 3,
   "id": "ca5b5dac",
   "metadata": {},
   "outputs": [
    {
     "name": "stdout",
     "output_type": "stream",
     "text": [
      "Requirement already satisfied: numpy in c:\\users\\goutham r\\anaconda3\\new folder\\lib\\site-packages (1.24.3)\n"
     ]
    }
   ],
   "source": [
    "! pip install numpy"
   ]
  },
  {
   "cell_type": "code",
   "execution_count": 5,
   "id": "6f90136b",
   "metadata": {},
   "outputs": [
    {
     "name": "stdout",
     "output_type": "stream",
     "text": [
      "Requirement already satisfied: pandas in c:\\users\\goutham r\\anaconda3\\new folder\\lib\\site-packages (2.0.3)\n",
      "Requirement already satisfied: python-dateutil>=2.8.2 in c:\\users\\goutham r\\anaconda3\\new folder\\lib\\site-packages (from pandas) (2.8.2)\n",
      "Requirement already satisfied: pytz>=2020.1 in c:\\users\\goutham r\\anaconda3\\new folder\\lib\\site-packages (from pandas) (2023.3.post1)\n",
      "Requirement already satisfied: tzdata>=2022.1 in c:\\users\\goutham r\\anaconda3\\new folder\\lib\\site-packages (from pandas) (2023.3)\n",
      "Requirement already satisfied: numpy>=1.21.0 in c:\\users\\goutham r\\anaconda3\\new folder\\lib\\site-packages (from pandas) (1.24.3)\n",
      "Requirement already satisfied: six>=1.5 in c:\\users\\goutham r\\anaconda3\\new folder\\lib\\site-packages (from python-dateutil>=2.8.2->pandas) (1.16.0)\n"
     ]
    }
   ],
   "source": [
    "! pip install pandas"
   ]
  },
  {
   "cell_type": "code",
   "execution_count": null,
   "id": "14266764",
   "metadata": {},
   "outputs": [],
   "source": [
    "basic - polynomial \n",
    "special  function \n",
    "Integration \n",
    "Linear algebra \n",
    "fourier transformation\n",
    "interpolation statistics\n",
    "miscellaneous"
   ]
  },
  {
   "cell_type": "code",
   "execution_count": 8,
   "id": "97834e7a",
   "metadata": {},
   "outputs": [
    {
     "name": "stdout",
     "output_type": "stream",
     "text": [
      "   2\n",
      "3 x + 6 x + 8\n"
     ]
    }
   ],
   "source": [
    "from numpy import poly1d\n",
    "p=poly1d([3,6,8])\n",
    "print(p)"
   ]
  },
  {
   "cell_type": "code",
   "execution_count": 9,
   "id": "b738ae82",
   "metadata": {},
   "outputs": [
    {
     "name": "stdout",
     "output_type": "stream",
     "text": [
      "   4      3      2\n",
      "9 x + 36 x + 84 x + 96 x + 64\n"
     ]
    }
   ],
   "source": [
    "print (p*p)"
   ]
  },
  {
   "cell_type": "code",
   "execution_count": 10,
   "id": "d01b9143",
   "metadata": {},
   "outputs": [
    {
     "name": "stdout",
     "output_type": "stream",
     "text": [
      "   2\n",
      "3 x + 6 x + 8\n",
      "p(2)= 32\n",
      "p(2)and p(3)= [32 53]\n"
     ]
    }
   ],
   "source": [
    "print (p)\n",
    "print(\"p(2)=\",p(2))\n",
    "print(\"p(2)and p(3)=\",p([2,3]))"
   ]
  },
  {
   "cell_type": "code",
   "execution_count": 11,
   "id": "d5a43681",
   "metadata": {},
   "outputs": [
    {
     "data": {
      "text/plain": [
       "array([-1.+1.29099445j, -1.-1.29099445j])"
      ]
     },
     "execution_count": 11,
     "metadata": {},
     "output_type": "execute_result"
    }
   ],
   "source": [
    "#root of p\n",
    "p.r"
   ]
  },
  {
   "cell_type": "code",
   "execution_count": 12,
   "id": "bb92c1af",
   "metadata": {},
   "outputs": [
    {
     "data": {
      "text/plain": [
       "poly1d([3, 6, 8])"
      ]
     },
     "execution_count": 12,
     "metadata": {},
     "output_type": "execute_result"
    }
   ],
   "source": [
    "#coefficient of p\n",
    "p\n"
   ]
  },
  {
   "cell_type": "code",
   "execution_count": 13,
   "id": "66374204",
   "metadata": {},
   "outputs": [
    {
     "name": "stdout",
     "output_type": "stream",
     "text": [
      "   2\n",
      "3 x + 6 x + 8\n"
     ]
    }
   ],
   "source": [
    "print(p)"
   ]
  },
  {
   "cell_type": "code",
   "execution_count": 14,
   "id": "d67581f2",
   "metadata": {},
   "outputs": [
    {
     "name": "stdout",
     "output_type": "stream",
     "text": [
      "\n",
      "   2\n",
      "1 y + 2 y + 3\n"
     ]
    }
   ],
   "source": [
    "p1=poly1d([1,2,3],variable=\"y\") #equation with variable as y\n",
    "print()\n",
    "print(p1)"
   ]
  },
  {
   "cell_type": "code",
   "execution_count": 15,
   "id": "08588fed",
   "metadata": {},
   "outputs": [
    {
     "name": "stdout",
     "output_type": "stream",
     "text": [
      "        3     2\n",
      "0.3333 x + 1 x + 3 x + 6\n"
     ]
    }
   ],
   "source": [
    "#integration of a polynomial\n",
    "p1=poly1d([1,2,3],variable='y')\n",
    "print(p1.integ(k=6)) #k=idefinite integrsation constant"
   ]
  },
  {
   "cell_type": "code",
   "execution_count": 16,
   "id": "b8289973",
   "metadata": {},
   "outputs": [
    {
     "name": "stdout",
     "output_type": "stream",
     "text": [
      " \n",
      "6 x + 6\n"
     ]
    }
   ],
   "source": [
    "#differentiation of a polynomial \n",
    "print(p.deriv())"
   ]
  },
  {
   "cell_type": "code",
   "execution_count": 17,
   "id": "91547f60",
   "metadata": {},
   "outputs": [],
   "source": [
    "#special function\n",
    "import scipy.special"
   ]
  },
  {
   "cell_type": "code",
   "execution_count": 19,
   "id": "f867d3d0",
   "metadata": {},
   "outputs": [
    {
     "data": {
      "text/plain": [
       "array([ 1,  2,  3,  4,  5,  6,  7,  8,  9, 10])"
      ]
     },
     "execution_count": 19,
     "metadata": {},
     "output_type": "execute_result"
    }
   ],
   "source": [
    "import numpy as np\n",
    "a = np.arange(1,11)\n",
    "a"
   ]
  },
  {
   "cell_type": "code",
   "execution_count": 20,
   "id": "8fb3d200",
   "metadata": {},
   "outputs": [
    {
     "data": {
      "text/plain": [
       "array([1.        , 1.25992105, 1.44224957, 1.58740105, 1.70997595,\n",
       "       1.81712059, 1.91293118, 2.        , 2.08008382, 2.15443469])"
      ]
     },
     "execution_count": 20,
     "metadata": {},
     "output_type": "execute_result"
    }
   ],
   "source": [
    "#cube root\n",
    "scipy.special.cbrt(a)"
   ]
  },
  {
   "cell_type": "code",
   "execution_count": 22,
   "id": "972137c9",
   "metadata": {},
   "outputs": [
    {
     "data": {
      "text/plain": [
       "1000.0"
      ]
     },
     "execution_count": 22,
     "metadata": {},
     "output_type": "execute_result"
    }
   ],
   "source": [
    "#exponent of 10(exp10())\n",
    "x=3\n",
    "scipy.special.exp10(x)"
   ]
  },
  {
   "cell_type": "code",
   "execution_count": 23,
   "id": "6dc632e0",
   "metadata": {},
   "outputs": [
    {
     "data": {
      "text/plain": [
       "0.5267500645255109"
      ]
     },
     "execution_count": 23,
     "metadata": {},
     "output_type": "execute_result"
    }
   ],
   "source": [
    "#degree to radian(d,m,s)\n",
    "d=30\n",
    "m=10\n",
    "s=50\n",
    "scipy.special.radian(d,m,s)"
   ]
  },
  {
   "cell_type": "code",
   "execution_count": 24,
   "id": "044ddaa8",
   "metadata": {},
   "outputs": [
    {
     "name": "stdout",
     "output_type": "stream",
     "text": [
      "sine of 30 degrees= 0.49999999999999994\n",
      "cosine of 30 degrees= 0.8660254037844387\n",
      "tangent of 30 degrees= 0.5773502691896257\n"
     ]
    }
   ],
   "source": [
    "#trignometric function (in degrees)\n",
    "print(\"sine of 30 degrees=\",scipy.special.sindg(30))\n",
    "print(\"cosine of 30 degrees=\",scipy.special.cosdg(30))\n",
    "print(\"tangent of 30 degrees=\",scipy.special.tandg(30))"
   ]
  },
  {
   "cell_type": "code",
   "execution_count": 25,
   "id": "11d49229",
   "metadata": {},
   "outputs": [
    {
     "data": {
      "text/plain": [
       "20.0"
      ]
     },
     "execution_count": 25,
     "metadata": {},
     "output_type": "execute_result"
    }
   ],
   "source": [
    "#permutation\n",
    "scipy.special.perm(5,2)#sp=20"
   ]
  },
  {
   "cell_type": "code",
   "execution_count": 26,
   "id": "635d74f2",
   "metadata": {},
   "outputs": [
    {
     "data": {
      "text/plain": [
       "10.0"
      ]
     },
     "execution_count": 26,
     "metadata": {},
     "output_type": "execute_result"
    }
   ],
   "source": [
    "#combnation\n",
    "scipy.special.comb(5,2) #sc2=10"
   ]
  },
  {
   "cell_type": "code",
   "execution_count": null,
   "id": "7aec1dbe",
   "metadata": {},
   "outputs": [],
   "source": [
    "#integration \n",
    "numerous types of integration are available in scipy\n",
    "quad - single integration\n",
    "dblquad - double integration \n",
    "tplquad - triple integration \n",
    "nquad - n-fold multiple integration"
   ]
  },
  {
   "cell_type": "code",
   "execution_count": 28,
   "id": "774bd7be",
   "metadata": {},
   "outputs": [],
   "source": [
    "import scipy.integrate"
   ]
  },
  {
   "cell_type": "code",
   "execution_count": 30,
   "id": "d8e924f2",
   "metadata": {},
   "outputs": [
    {
     "data": {
      "text/plain": [
       "9"
      ]
     },
     "execution_count": 30,
     "metadata": {},
     "output_type": "execute_result"
    }
   ],
   "source": [
    "f= lambda x: x**2\n",
    "f(3)"
   ]
  },
  {
   "cell_type": "code",
   "execution_count": 31,
   "id": "eeabd84a",
   "metadata": {},
   "outputs": [
    {
     "data": {
      "text/plain": [
       "6"
      ]
     },
     "execution_count": 31,
     "metadata": {},
     "output_type": "execute_result"
    }
   ],
   "source": [
    "f= lambda x,y: x*y\n",
    "f(2,3)"
   ]
  },
  {
   "cell_type": "code",
   "execution_count": 32,
   "id": "120c2759",
   "metadata": {},
   "outputs": [
    {
     "data": {
      "text/plain": [
       "9"
      ]
     },
     "execution_count": 32,
     "metadata": {},
     "output_type": "execute_result"
    }
   ],
   "source": [
    "h= lambda x,y: x**2+2*x*y+y**2 #(x+y)^2\n",
    "h(1,2) #(1+2)^2"
   ]
  },
  {
   "cell_type": "code",
   "execution_count": 33,
   "id": "7401a4b8",
   "metadata": {},
   "outputs": [
    {
     "data": {
      "text/plain": [
       "(3.7500000000000004, 4.1633363423443377e-14)"
      ]
     },
     "execution_count": 33,
     "metadata": {},
     "output_type": "execute_result"
    }
   ],
   "source": [
    "#scipy.integrate.quad(func,lower_limit,upper_limit)\n",
    "\n",
    "f= lambda x : x**3\n",
    "i= scipy.integrate.quad(f,1,2)\n",
    "i"
   ]
  },
  {
   "cell_type": "code",
   "execution_count": 35,
   "id": "e34f8b65",
   "metadata": {},
   "outputs": [
    {
     "data": {
      "text/plain": [
       "(0.08546832942957776, 2.1640276156712023e-12)"
      ]
     },
     "execution_count": 35,
     "metadata": {},
     "output_type": "execute_result"
    }
   ],
   "source": [
    "from numpy import exp\n",
    "f=lambda x:exp(-x**3)\n",
    "i=scipy.integrate.quad(f,1,4)\n",
    "i"
   ]
  },
  {
   "cell_type": "code",
   "execution_count": 37,
   "id": "a9babe2f",
   "metadata": {},
   "outputs": [
    {
     "data": {
      "text/plain": [
       "(0.010416666666666668, 4.101620128472366e-16)"
      ]
     },
     "execution_count": 37,
     "metadata": {},
     "output_type": "execute_result"
    }
   ],
   "source": [
    "#double integration (used for area under curve)\n",
    "\n",
    "#scipy integrate.dblquad(func,lower_limit,upper_limit,func2,func3)\n",
    "area= scipy.integrate.dblquad(lambda x,y: x*y, 0,0.5,lambda x:0,lambda y:1-2*y)\n",
    "area"
   ]
  },
  {
   "cell_type": "code",
   "execution_count": 38,
   "id": "0b8af0a5",
   "metadata": {},
   "outputs": [],
   "source": [
    "#linear algebra (import scipy.linalg)\n",
    "from scipy import linalg\n",
    "import numpy as np"
   ]
  },
  {
   "cell_type": "code",
   "execution_count": 39,
   "id": "73d6f4b4",
   "metadata": {},
   "outputs": [
    {
     "data": {
      "text/plain": [
       "array([[1, 2],\n",
       "       [3, 4]])"
      ]
     },
     "execution_count": 39,
     "metadata": {},
     "output_type": "execute_result"
    }
   ],
   "source": [
    "a1=np.array([[1,2],[3,4]])\n",
    "a1"
   ]
  },
  {
   "cell_type": "code",
   "execution_count": 40,
   "id": "61a7e1b9",
   "metadata": {},
   "outputs": [
    {
     "data": {
      "text/plain": [
       "-2.0"
      ]
     },
     "execution_count": 40,
     "metadata": {},
     "output_type": "execute_result"
    }
   ],
   "source": [
    "#determinate of a matrix\n",
    "linalg.det(a1)"
   ]
  },
  {
   "cell_type": "code",
   "execution_count": null,
   "id": "54a13e0d",
   "metadata": {},
   "outputs": [],
   "source": [
    "#compute pivoted lu decomption of matrix.\n",
    "the decomption is: \n",
    "    A= P L U\n",
    "    \n",
    "where P is a permutation matrix, \n",
    "      L is a lower triangular with unit diagonal elements\n",
    "      U is a upper triangular"
   ]
  },
  {
   "cell_type": "code",
   "execution_count": 41,
   "id": "51813998",
   "metadata": {},
   "outputs": [
    {
     "data": {
      "text/plain": [
       "array([[1, 2, 3],\n",
       "       [4, 5, 6],\n",
       "       [7, 8, 8]])"
      ]
     },
     "execution_count": 41,
     "metadata": {},
     "output_type": "execute_result"
    }
   ],
   "source": [
    "A= np.array([[1,2,3],[4,5,6],[7,8,8]])\n",
    "A"
   ]
  },
  {
   "cell_type": "code",
   "execution_count": 44,
   "id": "cde52d33",
   "metadata": {},
   "outputs": [
    {
     "data": {
      "text/plain": [
       "array([[0., 1., 0.],\n",
       "       [0., 0., 1.],\n",
       "       [1., 0., 0.]])"
      ]
     },
     "execution_count": 44,
     "metadata": {},
     "output_type": "execute_result"
    }
   ],
   "source": [
    "P, L, U= linalg.lu(A)\n",
    "\n",
    "P"
   ]
  },
  {
   "cell_type": "code",
   "execution_count": 45,
   "id": "334d0d11",
   "metadata": {},
   "outputs": [
    {
     "data": {
      "text/plain": [
       "array([[1.        , 0.        , 0.        ],\n",
       "       [0.14285714, 1.        , 0.        ],\n",
       "       [0.57142857, 0.5       , 1.        ]])"
      ]
     },
     "execution_count": 45,
     "metadata": {},
     "output_type": "execute_result"
    }
   ],
   "source": [
    "L"
   ]
  },
  {
   "cell_type": "code",
   "execution_count": 46,
   "id": "1dd76d61",
   "metadata": {},
   "outputs": [
    {
     "data": {
      "text/plain": [
       "array([[7.        , 8.        , 8.        ],\n",
       "       [0.        , 0.85714286, 1.85714286],\n",
       "       [0.        , 0.        , 0.5       ]])"
      ]
     },
     "execution_count": 46,
     "metadata": {},
     "output_type": "execute_result"
    }
   ],
   "source": [
    "U"
   ]
  },
  {
   "cell_type": "code",
   "execution_count": 51,
   "id": "94e2397b",
   "metadata": {},
   "outputs": [],
   "source": [
    "#we can find out the eigenvector and eigenvalue of a matrix:\n",
    "\n",
    "EV, EW = linalg.eig(A)\n"
   ]
  },
  {
   "cell_type": "code",
   "execution_count": 53,
   "id": "5e1ea838",
   "metadata": {},
   "outputs": [
    {
     "data": {
      "text/plain": [
       "array([15.55528261+0.j, -1.41940876+0.j, -0.13587385+0.j])"
      ]
     },
     "execution_count": 53,
     "metadata": {},
     "output_type": "execute_result"
    }
   ],
   "source": [
    "\n",
    "#Eigen value\n",
    "EV"
   ]
  },
  {
   "cell_type": "code",
   "execution_count": 54,
   "id": "4bd1ec76",
   "metadata": {},
   "outputs": [
    {
     "data": {
      "text/plain": [
       "array([[-0.24043423, -0.67468642,  0.51853459],\n",
       "       [-0.54694322, -0.23391616, -0.78895962],\n",
       "       [-0.80190056,  0.70005819,  0.32964312]])"
      ]
     },
     "execution_count": 54,
     "metadata": {},
     "output_type": "execute_result"
    }
   ],
   "source": [
    "#Eigen value\n",
    "EW"
   ]
  },
  {
   "cell_type": "code",
   "execution_count": 56,
   "id": "c1a15a20",
   "metadata": {},
   "outputs": [
    {
     "data": {
      "text/plain": [
       "array([[2],\n",
       "       [3],\n",
       "       [5]])"
      ]
     },
     "execution_count": 56,
     "metadata": {},
     "output_type": "execute_result"
    }
   ],
   "source": [
    "B = np.array([[2],[3],[5]])\n",
    "B"
   ]
  },
  {
   "cell_type": "code",
   "execution_count": 57,
   "id": "11704613",
   "metadata": {},
   "outputs": [
    {
     "data": {
      "text/plain": [
       "array([[1, 2, 3],\n",
       "       [4, 5, 6],\n",
       "       [7, 8, 8]])"
      ]
     },
     "execution_count": 57,
     "metadata": {},
     "output_type": "execute_result"
    }
   ],
   "source": [
    "A"
   ]
  },
  {
   "cell_type": "code",
   "execution_count": 58,
   "id": "55a13c3c",
   "metadata": {},
   "outputs": [],
   "source": [
    "#solve linear equation using matrix(AX=B)\n",
    "#linalg.solve()\n",
    "\n",
    "x=linalg.solve(A,B)"
   ]
  },
  {
   "cell_type": "code",
   "execution_count": 59,
   "id": "449e6007",
   "metadata": {},
   "outputs": [
    {
     "data": {
      "text/plain": [
       "array([[-2.33333333],\n",
       "       [ 3.66666667],\n",
       "       [-1.        ]])"
      ]
     },
     "execution_count": 59,
     "metadata": {},
     "output_type": "execute_result"
    }
   ],
   "source": [
    "x #solution:(7/3,11/3,1)"
   ]
  },
  {
   "cell_type": "code",
   "execution_count": 72,
   "id": "fdddfcf3",
   "metadata": {},
   "outputs": [
    {
     "data": {
      "text/plain": [
       "array([[1, 3, 5],\n",
       "       [2, 5, 1],\n",
       "       [2, 3, 8]])"
      ]
     },
     "execution_count": 72,
     "metadata": {},
     "output_type": "execute_result"
    }
   ],
   "source": [
    "#inverse of a matrix\n",
    "A = np.array([[1,3,5],[2,5,1],[2,3,8]])\n",
    "A"
   ]
  },
  {
   "cell_type": "code",
   "execution_count": 73,
   "id": "9e4ed17b",
   "metadata": {},
   "outputs": [
    {
     "data": {
      "text/plain": [
       "array([[1, 3, 5],\n",
       "       [2, 5, 1],\n",
       "       [2, 3, 8]])"
      ]
     },
     "execution_count": 73,
     "metadata": {},
     "output_type": "execute_result"
    }
   ],
   "source": [
    "A"
   ]
  },
  {
   "cell_type": "code",
   "execution_count": 74,
   "id": "0b017808",
   "metadata": {},
   "outputs": [
    {
     "data": {
      "text/plain": [
       "array([[-1.48,  0.36,  0.88],\n",
       "       [ 0.56,  0.08, -0.36],\n",
       "       [ 0.16, -0.12,  0.04]])"
      ]
     },
     "execution_count": 74,
     "metadata": {},
     "output_type": "execute_result"
    }
   ],
   "source": [
    "#inverse: linalg.inv()\n",
    "\n",
    "linalg.inv(A)"
   ]
  },
  {
   "cell_type": "code",
   "execution_count": 70,
   "id": "bb493425",
   "metadata": {},
   "outputs": [],
   "source": [
    "import math"
   ]
  },
  {
   "cell_type": "code",
   "execution_count": 71,
   "id": "556cb8c8",
   "metadata": {},
   "outputs": [
    {
     "ename": "NameError",
     "evalue": "name 'inv' is not defined",
     "output_type": "error",
     "traceback": [
      "\u001b[1;31m---------------------------------------------------------------------------\u001b[0m",
      "\u001b[1;31mNameError\u001b[0m                                 Traceback (most recent call last)",
      "Cell \u001b[1;32mIn[71], line 2\u001b[0m\n\u001b[0;32m      1\u001b[0m \u001b[38;5;66;03m#cross check\u001b[39;00m\n\u001b[1;32m----> 2\u001b[0m A\u001b[38;5;241m*\u001b[39minv(A)\u001b[38;5;241m==\u001b[39mI\n",
      "\u001b[1;31mNameError\u001b[0m: name 'inv' is not defined"
     ]
    }
   ],
   "source": [
    "#cross check\n",
    "A*inv(A)==I"
   ]
  },
  {
   "cell_type": "code",
   "execution_count": null,
   "id": "c672880b",
   "metadata": {},
   "outputs": [],
   "source": [
    "#fourier transformtion\n",
    "\n",
    "fft : fast fourier transformation\n",
    "ifft: inverse fast fourier transformation"
   ]
  },
  {
   "cell_type": "code",
   "execution_count": 75,
   "id": "a5e849bd",
   "metadata": {},
   "outputs": [
    {
     "data": {
      "text/plain": [
       "array([ 1,  5,  6, 14, 25, 40])"
      ]
     },
     "execution_count": 75,
     "metadata": {},
     "output_type": "execute_result"
    }
   ],
   "source": [
    "import scipy.fftpack\n",
    "\n",
    "import numpy as np\n",
    "a=np.array([1,5,6,14,25,40])\n",
    "a"
   ]
  },
  {
   "cell_type": "code",
   "execution_count": 76,
   "id": "cf4db14c",
   "metadata": {},
   "outputs": [
    {
     "data": {
      "text/plain": [
       "array([ 1,  5,  6, 14, 25, 40])"
      ]
     },
     "execution_count": 76,
     "metadata": {},
     "output_type": "execute_result"
    }
   ],
   "source": [
    "import scipy.fftpack\n",
    "\n",
    "import numpy as np\n",
    "a= np.array([1,5,6,14,25,40])\n",
    "a"
   ]
  },
  {
   "cell_type": "code",
   "execution_count": 77,
   "id": "cb37f8c9",
   "metadata": {},
   "outputs": [
    {
     "data": {
      "text/plain": [
       "array([ 91. -0.j        ,  -6.+46.7653718j , -23.+13.85640646j,\n",
       "       -27. -0.j        , -23.-13.85640646j,  -6.-46.7653718j ])"
      ]
     },
     "execution_count": 77,
     "metadata": {},
     "output_type": "execute_result"
    }
   ],
   "source": [
    "#fourier transform\n",
    "y=scipy.fftpack.fft(a)\n",
    "y"
   ]
  },
  {
   "cell_type": "code",
   "execution_count": 78,
   "id": "060083cb",
   "metadata": {},
   "outputs": [
    {
     "data": {
      "text/plain": [
       "array([15.16666667-0.j        , -1.        -7.79422863j,\n",
       "       -3.83333333-2.30940108j, -4.5       -0.j        ,\n",
       "       -3.83333333+2.30940108j, -1.        +7.79422863j])"
      ]
     },
     "execution_count": 78,
     "metadata": {},
     "output_type": "execute_result"
    }
   ],
   "source": [
    "#inverse fourier transform\n",
    "invy = scipy.fftpack.ifft(a)\n",
    "invy"
   ]
  },
  {
   "cell_type": "code",
   "execution_count": 81,
   "id": "58d779c1",
   "metadata": {},
   "outputs": [
    {
     "name": "stdout",
     "output_type": "stream",
     "text": [
      "[ 1.+0.j  5.+0.j  6.-0.j 14.+0.j 25.+0.j 40.+0.j]\n",
      "\n",
      "[ 1  5  6 14 25 40]\n"
     ]
    }
   ],
   "source": [
    "#cross verification\n",
    "i=scipy.fftpack.fft(invy)\n",
    "print(i)\n",
    "print()\n",
    "print(a)"
   ]
  },
  {
   "cell_type": "code",
   "execution_count": null,
   "id": "8ef270eb",
   "metadata": {},
   "outputs": [],
   "source": [
    "#what is interpolation \n",
    "interpolation is atype of estimation, a method of constructing new data points within the range of a discrete set of \n",
    "known data points\n",
    "ploynomial interpolation is a method of estimating values btw known data points."
   ]
  },
  {
   "cell_type": "code",
   "execution_count": 94,
   "id": "1f071a42",
   "metadata": {},
   "outputs": [
    {
     "data": {
      "image/png": "[encoded data removed]",
      "text/plain": [
       "<Figure size 640x480 with 1 Axes>"
      ]
     },
     "metadata": {},
     "output_type": "display_data"
    }
   ],
   "source": [
    "from scipy.interpolate import interp1d\n",
    "import numpy as np\n",
    "\n",
    "x = np.arange(0,6,1)\n",
    "y = np.array([0.1,0.2,0.3,0.5,1.0,0.9])\n",
    "\n",
    "xp = np.linspace(0,5,100)\n",
    "import matplotlib.pyplot as plt\n",
    "plt.plot(x,y,'bo')\n",
    "\n",
    "#for linear interpolation\n",
    "y1 = interp1d(x,y, kind='linear')\n",
    "plt.plot(xp,y1(xp),'r-')\n",
    "\n",
    "#for quadratic interpolation \n",
    "y2 = interp1d(x,y,kind='quadratic')\n",
    "plt.plot(xp,y2(xp),'b--')\n",
    "\n",
    "#for cubic interpolation \n",
    "y3 = interp1d(x,y,kind='cubic')\n",
    "plt.plot(xp,y3(xp),'g+')\n",
    "\n",
    "plt.legend([\"points\",\"linear\",\"quadratic\"])\n",
    "plt.show()"
   ]
  },
  {
   "cell_type": "code",
   "execution_count": 87,
   "id": "51171308",
   "metadata": {},
   "outputs": [
    {
     "name": "stdout",
     "output_type": "stream",
     "text": [
      "<class 'numpy.ndarray'>\n"
     ]
    }
   ],
   "source": [
    "#probablity distributions\n",
    "\n",
    "from scipy.stats import norm\n",
    "\n",
    "#This gives you a numpy array with 50 elements\n",
    "#randomly valued accordingly to the standard normal distribution (mean=0,std=1)\n",
    "x_norm = norm.rvs(size = 500)\n",
    "print(type(x_norm))"
   ]
  },
  {
   "cell_type": "code",
   "execution_count": 89,
   "id": "feee71f2",
   "metadata": {},
   "outputs": [
    {
     "data": {
      "text/plain": [
       "(0.0, 1.0, 1.0)"
      ]
     },
     "execution_count": 89,
     "metadata": {},
     "output_type": "execute_result"
    }
   ],
   "source": [
    "norm.mean(),norm.std(),norm.var() #mean=0,std=1"
   ]
  },
  {
   "cell_type": "code",
   "execution_count": 90,
   "id": "ca4e6934",
   "metadata": {},
   "outputs": [
    {
     "data": {
      "text/plain": [
       "array([0.84134475, 0.15865525, 0.5       , 0.84134475, 0.9986501 ,\n",
       "       0.99996833, 0.02275013, 1.        ])"
      ]
     },
     "execution_count": 90,
     "metadata": {},
     "output_type": "execute_result"
    }
   ],
   "source": [
    "#CDF cummulative distribution function    p(x<=xbar)\n",
    "import numpy as np\n",
    "norm.cdf(np.array([1,-1.,0,1,3,4,-2,6]))"
   ]
  },
  {
   "cell_type": "code",
   "execution_count": 91,
   "id": "51ea6380",
   "metadata": {},
   "outputs": [
    {
     "data": {
      "text/plain": [
       "0.0"
      ]
     },
     "execution_count": 91,
     "metadata": {},
     "output_type": "execute_result"
    }
   ],
   "source": [
    "#ppf\n",
    "#it is reverse of cdf the PPf returns the exact point where the probablity of everything to the left is equal to y.\n",
    "norm.ppf(0.5) #percent point function"
   ]
  },
  {
   "cell_type": "code",
   "execution_count": 92,
   "id": "d0887ffe",
   "metadata": {},
   "outputs": [
    {
     "name": "stdout",
     "output_type": "stream",
     "text": [
      "9,1,5.0,6.666666666666667\n"
     ]
    }
   ],
   "source": [
    "x= np.array ([1,2,3,4,5,6,7,8,9])\n",
    "print(x.max(),x.min(),x.mean(),x.var(),sep=\",\")"
   ]
  },
  {
   "cell_type": "code",
   "execution_count": null,
   "id": "d0fe9702",
   "metadata": {},
   "outputs": [],
   "source": [
    "#geometric mean calculates the geometric mean of the array elements along the specified"
   ]
  }
 ],
 "metadata": {
  "kernelspec": {
   "display_name": "Python 3 (ipykernel)",
   "language": "python",
   "name": "python3"
  },
  "language_info": {
   "codemirror_mode": {
    "name": "ipython",
    "version": 3
   },
   "file_extension": ".py",
   "mimetype": "text/x-python",
   "name": "python",
   "nbconvert_exporter": "python",
   "pygments_lexer": "ipython3",
   "version": "3.11.5"
  }
 },
 "nbformat": 4,
 "nbformat_minor": 5
}
