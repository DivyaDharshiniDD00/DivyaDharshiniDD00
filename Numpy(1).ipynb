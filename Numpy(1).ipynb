{
 "cells": [
  {
   "cell_type": "code",
   "execution_count": 2,
   "id": "c6214ff6",
   "metadata": {},
   "outputs": [
    {
     "name": "stdout",
     "output_type": "stream",
     "text": [
      "Requirement already satisfied: numpy in c:\\users\\goutham r\\anaconda3\\new folder\\lib\\site-packages (1.24.3)\n"
     ]
    }
   ],
   "source": [
    " #numpy\n",
    "! pip install numpy"
   ]
  },
  {
   "cell_type": "code",
   "execution_count": 3,
   "id": "fe62c66b",
   "metadata": {},
   "outputs": [
    {
     "name": "stdout",
     "output_type": "stream",
     "text": [
      "Requirement already satisfied: pandas in c:\\users\\goutham r\\anaconda3\\new folder\\lib\\site-packages (2.0.3)\n",
      "Requirement already satisfied: python-dateutil>=2.8.2 in c:\\users\\goutham r\\anaconda3\\new folder\\lib\\site-packages (from pandas) (2.8.2)\n",
      "Requirement already satisfied: pytz>=2020.1 in c:\\users\\goutham r\\anaconda3\\new folder\\lib\\site-packages (from pandas) (2023.3.post1)\n",
      "Requirement already satisfied: tzdata>=2022.1 in c:\\users\\goutham r\\anaconda3\\new folder\\lib\\site-packages (from pandas) (2023.3)\n",
      "Requirement already satisfied: numpy>=1.21.0 in c:\\users\\goutham r\\anaconda3\\new folder\\lib\\site-packages (from pandas) (1.24.3)\n",
      "Requirement already satisfied: six>=1.5 in c:\\users\\goutham r\\anaconda3\\new folder\\lib\\site-packages (from python-dateutil>=2.8.2->pandas) (1.16.0)\n"
     ]
    }
   ],
   "source": [
    "! pip install pandas"
   ]
  },
  {
   "cell_type": "code",
   "execution_count": 4,
   "id": "5c745e4a",
   "metadata": {},
   "outputs": [
    {
     "name": "stdout",
     "output_type": "stream",
     "text": [
      "[1 2 3]\n"
     ]
    }
   ],
   "source": [
    "import numpy\n",
    "a=numpy.array([1,2,3])\n",
    "print(a)"
   ]
  },
  {
   "cell_type": "code",
   "execution_count": 6,
   "id": "007b1759",
   "metadata": {},
   "outputs": [
    {
     "name": "stdout",
     "output_type": "stream",
     "text": [
      "[3 4]\n"
     ]
    }
   ],
   "source": [
    "import numpy as np\n",
    "b=np.array([3,4])\n",
    "print (b)"
   ]
  },
  {
   "cell_type": "code",
   "execution_count": 7,
   "id": "ccc4bebb",
   "metadata": {},
   "outputs": [],
   "source": [
    "#array create\n",
    "np.array([1,2,3])\n"
   ]
  },
  {
   "cell_type": "code",
   "execution_count": 9,
   "id": "fafd81fe",
   "metadata": {},
   "outputs": [
    {
     "name": "stdout",
     "output_type": "stream",
     "text": [
      "54\n",
      "[1 2 3]\n",
      "[[1 2 3]\n",
      " [3 4 5]]\n",
      "[[[4 5 6]\n",
      "  [7 8 9]]\n",
      "\n",
      " [[1 2 3]\n",
      "  [5 6 7]]]\n",
      "0\n",
      "1\n",
      "2\n",
      "3\n",
      "<class 'numpy.ndarray'>\n",
      "<class 'numpy.ndarray'>\n",
      "<class 'numpy.ndarray'>\n",
      "<class 'numpy.ndarray'>\n"
     ]
    }
   ],
   "source": [
    "import numpy as np\n",
    "a=np.array (54)\n",
    "b=np.array([1,2,3])\n",
    "c=np.array([[1,2,3],[3,4,5]])\n",
    "d=np.array([[[4,5,6],[7,8,9]],[[1,2,3],[5,6,7]]])\n",
    "print(a)\n",
    "print(b)\n",
    "print(c)\n",
    "print(d)\n",
    "print(a.ndim)\n",
    "print(b.ndim)\n",
    "print(c.ndim)\n",
    "print(d.ndim)\n",
    "print(type(a))\n",
    "print(type(b))\n",
    "print(type(c))\n",
    "print(type(d))"
   ]
  },
  {
   "cell_type": "code",
   "execution_count": 13,
   "id": "be668eb5",
   "metadata": {},
   "outputs": [
    {
     "name": "stdout",
     "output_type": "stream",
     "text": [
      "1\n"
     ]
    }
   ],
   "source": [
    "\n",
    "\n",
    "#accessing the elements\n",
    "#indexing-start with 0\n",
    "\n",
    "a=np.array([1,2,3])\n",
    "print(a[0])"
   ]
  },
  {
   "cell_type": "code",
   "execution_count": 15,
   "id": "b04829af",
   "metadata": {},
   "outputs": [
    {
     "name": "stdout",
     "output_type": "stream",
     "text": [
      "5\n",
      "2\n",
      "4\n"
     ]
    }
   ],
   "source": [
    "c=np.array([[1,2,3],[3,4,5]])\n",
    "print(c[1,2])\n",
    "print(c[0,-2])\n",
    "print(c[1,1])"
   ]
  },
  {
   "cell_type": "code",
   "execution_count": 18,
   "id": "15a98469",
   "metadata": {},
   "outputs": [
    {
     "name": "stdout",
     "output_type": "stream",
     "text": [
      "9\n",
      "2\n"
     ]
    }
   ],
   "source": [
    "import numpy as np \n",
    "\n",
    "d=np.array([[[4,5,6],[7,8,9]],[[1,2,3],[5,6,7]]])\n",
    "print(d[0,1,2])\n",
    "print(d[1,0,-2])"
   ]
  },
  {
   "cell_type": "code",
   "execution_count": 19,
   "id": "7c989977",
   "metadata": {},
   "outputs": [],
   "source": [
    "#slicing\n",
    "#(start:stop;size)\n",
    "#start-includes index\n",
    "#stop-excludes the index(1:6:2)"
   ]
  },
  {
   "cell_type": "code",
   "execution_count": 20,
   "id": "d734709a",
   "metadata": {},
   "outputs": [
    {
     "name": "stdout",
     "output_type": "stream",
     "text": [
      "[10 20 30 40 50 60 70]\n",
      "[10 20]\n",
      "[20 40]\n",
      "[10 30 50 70]\n",
      "[60]\n"
     ]
    }
   ],
   "source": [
    "import numpy as np\n",
    "a=np.array([10,20,30,40,50,60,70])\n",
    "print(a)\n",
    "print(a[:2])\n",
    "print(a[1:5:2])\n",
    "print(a[ : :2])\n",
    "print(a[-2: :2])"
   ]
  },
  {
   "cell_type": "code",
   "execution_count": 22,
   "id": "e7558a22",
   "metadata": {},
   "outputs": [
    {
     "name": "stdout",
     "output_type": "stream",
     "text": [
      "[10 20 30 40 50 60 70]\n",
      "[10 20 30]\n",
      "[20 40]\n",
      "[10 40 70]\n",
      "[50 70]\n"
     ]
    }
   ],
   "source": [
    "import numpy as np\n",
    "a=np.array([10,20,30,40,50,60,70])\n",
    "print(a)\n",
    "print(a[:3])\n",
    "print(a[1:4:2])\n",
    "print(a[ : :3])\n",
    "print(a[-3: :2])"
   ]
  },
  {
   "cell_type": "code",
   "execution_count": 24,
   "id": "a92704ee",
   "metadata": {},
   "outputs": [
    {
     "name": "stdout",
     "output_type": "stream",
     "text": [
      "[[2 3 4]\n",
      " [4 5 6]]\n",
      "[2 3]\n",
      "[6]\n",
      "[[2 3]\n",
      " [4 5]]\n",
      "[[5]]\n"
     ]
    }
   ],
   "source": [
    "import numpy as np\n",
    "b=np.array([[2,3,4],[4,5,6]])\n",
    "print(b)\n",
    "print(b[0,0:2])\n",
    "print(b[1,2:])\n",
    "print(b[0:2,0:2])\n",
    "print(b[1:2,1:2])"
   ]
  },
  {
   "cell_type": "code",
   "execution_count": 25,
   "id": "19c30ef0",
   "metadata": {},
   "outputs": [
    {
     "name": "stdout",
     "output_type": "stream",
     "text": [
      "[[[10 20 30]\n",
      "  [40 50 60]]\n",
      "\n",
      " [[70 80 90]\n",
      "  [ 1  2  3]]]\n",
      "[[[10 20 30]\n",
      "  [40 50 60]]\n",
      "\n",
      " [[70 80 90]\n",
      "  [ 1  2  3]]]\n",
      "[[[70 80 90]\n",
      "  [ 1  2  3]]]\n",
      "[[[10 20 30]\n",
      "  [40 50 60]]]\n",
      "[[[10 20 30]\n",
      "  [40 50 60]]]\n"
     ]
    }
   ],
   "source": [
    "import numpy as np\n",
    "a=np.array([[[10,20,30],[40,50,60]],[[70,80,90],[1,2,3]]])\n",
    "print(a)\n",
    "print(a[:2])\n",
    "print(a[1:5:2])\n",
    "print(a[ : :2])\n",
    "print(a[-2: :2])"
   ]
  },
  {
   "cell_type": "code",
   "execution_count": 98,
   "id": "50ca5a98",
   "metadata": {},
   "outputs": [],
   "source": [
    "#initializing array\n",
    "#zeros()\n",
    "#ones()\n",
    "#full()\n",
    "#eye()\n",
    "#shape()\n",
    "reshape()\n"
   ]
  },
  {
   "cell_type": "code",
   "execution_count": 30,
   "id": "1d84af02",
   "metadata": {},
   "outputs": [
    {
     "name": "stdout",
     "output_type": "stream",
     "text": [
      "[[2 3 4]\n",
      " [4 5 6]]\n"
     ]
    },
    {
     "data": {
      "text/plain": [
       "array([[2, 3],\n",
       "       [4, 4],\n",
       "       [5, 6]])"
      ]
     },
     "execution_count": 30,
     "metadata": {},
     "output_type": "execute_result"
    }
   ],
   "source": [
    "import numpy as np\n",
    "b=np.array([[2,3,4],[4,5,6]])\n",
    "print(b)\n",
    "np.shape(b) #(2,3)\n",
    "np.reshape(b,(3,2))"
   ]
  },
  {
   "cell_type": "code",
   "execution_count": 31,
   "id": "2ae71a7e",
   "metadata": {},
   "outputs": [
    {
     "name": "stdout",
     "output_type": "stream",
     "text": [
      "[[[10 20 30]\n",
      "  [40 50 60]]\n",
      "\n",
      " [[70 80 90]\n",
      "  [ 1  2  3]]]\n"
     ]
    },
    {
     "data": {
      "text/plain": [
       "array([[[10, 20],\n",
       "        [30, 40]],\n",
       "\n",
       "       [[50, 60],\n",
       "        [70, 80]],\n",
       "\n",
       "       [[90,  1],\n",
       "        [ 2,  3]]])"
      ]
     },
     "execution_count": 31,
     "metadata": {},
     "output_type": "execute_result"
    }
   ],
   "source": [
    "c=np.array([[[10,20,30],[40,50,60]],[[70,80,90],[1,2,3]]])\n",
    "np.shape(c) #(2,2,3)\n",
    "print(c)\n",
    "np.reshape(c,(3,2,2))\n",
    "#np.reshape(c,(2,3,2))"
   ]
  },
  {
   "cell_type": "code",
   "execution_count": 32,
   "id": "9b328c5d",
   "metadata": {},
   "outputs": [
    {
     "data": {
      "text/plain": [
       "array([[0., 0., 0., 0.],\n",
       "       [0., 0., 0., 0.],\n",
       "       [0., 0., 0., 0.],\n",
       "       [0., 0., 0., 0.]])"
      ]
     },
     "execution_count": 32,
     "metadata": {},
     "output_type": "execute_result"
    }
   ],
   "source": [
    "np.zeros((4,4))"
   ]
  },
  {
   "cell_type": "code",
   "execution_count": 33,
   "id": "98b4a962",
   "metadata": {},
   "outputs": [
    {
     "data": {
      "text/plain": [
       "array([[0, 0, 0, 0],\n",
       "       [0, 0, 0, 0],\n",
       "       [0, 0, 0, 0],\n",
       "       [0, 0, 0, 0]])"
      ]
     },
     "execution_count": 33,
     "metadata": {},
     "output_type": "execute_result"
    }
   ],
   "source": [
    "np.zeros((4,4),dtype=int)"
   ]
  },
  {
   "cell_type": "code",
   "execution_count": 35,
   "id": "dd015a10",
   "metadata": {},
   "outputs": [
    {
     "data": {
      "text/plain": [
       "array([[1., 1., 1., 1.],\n",
       "       [1., 1., 1., 1.],\n",
       "       [1., 1., 1., 1.]])"
      ]
     },
     "execution_count": 35,
     "metadata": {},
     "output_type": "execute_result"
    }
   ],
   "source": [
    "np.ones((3,4))"
   ]
  },
  {
   "cell_type": "code",
   "execution_count": 36,
   "id": "cb29ac1e",
   "metadata": {},
   "outputs": [
    {
     "data": {
      "text/plain": [
       "array([[1, 1, 1, 1],\n",
       "       [1, 1, 1, 1],\n",
       "       [1, 1, 1, 1]])"
      ]
     },
     "execution_count": 36,
     "metadata": {},
     "output_type": "execute_result"
    }
   ],
   "source": [
    "np.ones((3,4),dtype=int)"
   ]
  },
  {
   "cell_type": "code",
   "execution_count": 37,
   "id": "3124c63c",
   "metadata": {},
   "outputs": [
    {
     "data": {
      "text/plain": [
       "array([[10, 10, 10],\n",
       "       [10, 10, 10]])"
      ]
     },
     "execution_count": 37,
     "metadata": {},
     "output_type": "execute_result"
    }
   ],
   "source": [
    "np.full((2,3),10)"
   ]
  },
  {
   "cell_type": "code",
   "execution_count": 38,
   "id": "0e66961e",
   "metadata": {},
   "outputs": [
    {
     "data": {
      "text/plain": [
       "array([[5, 5],\n",
       "       [5, 5],\n",
       "       [5, 5]])"
      ]
     },
     "execution_count": 38,
     "metadata": {},
     "output_type": "execute_result"
    }
   ],
   "source": [
    "np.full((3,2),5)"
   ]
  },
  {
   "cell_type": "code",
   "execution_count": 39,
   "id": "b293a103",
   "metadata": {},
   "outputs": [
    {
     "data": {
      "text/plain": [
       "array([[1., 0., 0.],\n",
       "       [0., 1., 0.],\n",
       "       [0., 0., 1.]])"
      ]
     },
     "execution_count": 39,
     "metadata": {},
     "output_type": "execute_result"
    }
   ],
   "source": [
    "np.eye(3)"
   ]
  },
  {
   "cell_type": "code",
   "execution_count": 43,
   "id": "c2319621",
   "metadata": {},
   "outputs": [
    {
     "data": {
      "text/plain": [
       "array([[1, 0, 0, 0, 0, 0],\n",
       "       [0, 1, 0, 0, 0, 0],\n",
       "       [0, 0, 1, 0, 0, 0],\n",
       "       [0, 0, 0, 1, 0, 0],\n",
       "       [0, 0, 0, 0, 1, 0],\n",
       "       [0, 0, 0, 0, 0, 1]])"
      ]
     },
     "execution_count": 43,
     "metadata": {},
     "output_type": "execute_result"
    }
   ],
   "source": [
    "np.eye((6),dtype=int)"
   ]
  },
  {
   "cell_type": "code",
   "execution_count": 45,
   "id": "edcee54d",
   "metadata": {},
   "outputs": [
    {
     "name": "stdout",
     "output_type": "stream",
     "text": [
      "[[[ 4  5  6]\n",
      "  [ 7  8  9]]\n",
      "\n",
      " [[ 1  2  3]\n",
      "  [10 20 30]]]\n"
     ]
    },
    {
     "data": {
      "text/plain": [
       "array([[[ 4,  5],\n",
       "        [ 6,  7],\n",
       "        [ 8,  9]],\n",
       "\n",
       "       [[ 1,  2],\n",
       "        [ 3, 10],\n",
       "        [20, 30]]])"
      ]
     },
     "execution_count": 45,
     "metadata": {},
     "output_type": "execute_result"
    }
   ],
   "source": [
    "import numpy as np\n",
    "d= np.array([[[4,5,6],[7,8,9]],[[1,2,3],[10,20,30]]])\n",
    "print(d)\n",
    "np.shape(d)\n",
    "np.reshape(d,(3,2,2))\n",
    "np.reshape(d,(2,3,2))"
   ]
  },
  {
   "cell_type": "code",
   "execution_count": 46,
   "id": "fcf24d1e",
   "metadata": {},
   "outputs": [
    {
     "ename": "SyntaxError",
     "evalue": "invalid syntax (3202181669.py, line 11)",
     "output_type": "error",
     "traceback": [
      "\u001b[1;36m  Cell \u001b[1;32mIn[46], line 11\u001b[1;36m\u001b[0m\n\u001b[1;33m    shape of an array must be equal\u001b[0m\n\u001b[1;37m          ^\u001b[0m\n\u001b[1;31mSyntaxError\u001b[0m\u001b[1;31m:\u001b[0m invalid syntax\n"
     ]
    }
   ],
   "source": [
    "#Arthimetic Operators\n",
    "addition\n",
    "substraction\n",
    "multiplication\n",
    "division\n",
    "modulo\n",
    "reciprocal\n",
    "complex\n",
    "\n",
    "#rules\n",
    "shape of an array must be equal\n",
    "second array should have atleast one dimension and the number of elements in that dim should be equal to \n",
    "eg:a=(3,3)\n",
    "    b=(2,2) #not equal\n",
    "    b=(3,)\n",
    "    second array having single element b=[10]\n",
    "    \n",
    "    #add=numpy.add(first arr,sec arr)"
   ]
  },
  {
   "cell_type": "code",
   "execution_count": 47,
   "id": "c226352d",
   "metadata": {},
   "outputs": [
    {
     "data": {
      "text/plain": [
       "array([[ 2,  3,  4],\n",
       "       [ 5,  6,  7],\n",
       "       [ 8,  9, 10]])"
      ]
     },
     "execution_count": 47,
     "metadata": {},
     "output_type": "execute_result"
    }
   ],
   "source": [
    "import numpy as np\n",
    "a=np.array([[1,2,3],[4,5,6],[7,8,9]])\n",
    "b=np.array([[1,1,1],[1,1,1],[1,1,1]])\n",
    "np.shape(a)\n",
    "np.shape(b)\n",
    "np.add(a,b)"
   ]
  },
  {
   "cell_type": "code",
   "execution_count": 48,
   "id": "d46f0093",
   "metadata": {},
   "outputs": [
    {
     "name": "stdout",
     "output_type": "stream",
     "text": [
      "[10 20 30]\n"
     ]
    },
    {
     "data": {
      "text/plain": [
       "array([[11, 22, 33],\n",
       "       [14, 25, 36],\n",
       "       [17, 28, 39]])"
      ]
     },
     "execution_count": 48,
     "metadata": {},
     "output_type": "execute_result"
    }
   ],
   "source": [
    "c=np.array([10,20,30])\n",
    "print(c)\n",
    "np.shape(c)\n",
    "np.add(a,c)"
   ]
  },
  {
   "cell_type": "code",
   "execution_count": 100,
   "id": "39a2d1bb",
   "metadata": {},
   "outputs": [
    {
     "name": "stdout",
     "output_type": "stream",
     "text": [
      "[10 20 30]\n"
     ]
    },
    {
     "data": {
      "text/plain": [
       "(3,)"
      ]
     },
     "execution_count": 100,
     "metadata": {},
     "output_type": "execute_result"
    }
   ],
   "source": [
    "d=np.array([10,20,30])\n",
    "print(d)\n",
    "np.shape(d)"
   ]
  },
  {
   "cell_type": "code",
   "execution_count": 101,
   "id": "152f705c",
   "metadata": {},
   "outputs": [],
   "source": [
    "#np.add(a,d)"
   ]
  },
  {
   "cell_type": "code",
   "execution_count": 59,
   "id": "678ee6c7",
   "metadata": {},
   "outputs": [
    {
     "data": {
      "text/plain": [
       "array([[11, 12, 13],\n",
       "       [14, 15, 16],\n",
       "       [17, 18, 19]])"
      ]
     },
     "execution_count": 59,
     "metadata": {},
     "output_type": "execute_result"
    }
   ],
   "source": [
    "e=np.array([10])\n",
    "np.add(a,e)"
   ]
  },
  {
   "cell_type": "code",
   "execution_count": 53,
   "id": "fa4c75c0",
   "metadata": {},
   "outputs": [
    {
     "data": {
      "text/plain": [
       "array([[1.        , 0.5       , 0.33333333],\n",
       "       [0.25      , 0.2       , 0.16666667],\n",
       "       [0.14285714, 0.125     , 0.11111111]])"
      ]
     },
     "execution_count": 53,
     "metadata": {},
     "output_type": "execute_result"
    }
   ],
   "source": [
    "np.reciprocal(a,dtype=float)"
   ]
  },
  {
   "cell_type": "code",
   "execution_count": 54,
   "id": "54768238",
   "metadata": {},
   "outputs": [
    {
     "name": "stdout",
     "output_type": "stream",
     "text": [
      "[ 5.+6.j 10.-5.j]\n"
     ]
    }
   ],
   "source": [
    "com=np.array([5+6j,10-5j])\n",
    "print(com)"
   ]
  },
  {
   "cell_type": "code",
   "execution_count": 56,
   "id": "19a7d017",
   "metadata": {},
   "outputs": [
    {
     "data": {
      "text/plain": [
       "array([ 5., 10.])"
      ]
     },
     "execution_count": 56,
     "metadata": {},
     "output_type": "execute_result"
    }
   ],
   "source": [
    "np.real(com)"
   ]
  },
  {
   "cell_type": "code",
   "execution_count": 57,
   "id": "27d5c9d3",
   "metadata": {},
   "outputs": [
    {
     "data": {
      "text/plain": [
       "array([ 6., -5.])"
      ]
     },
     "execution_count": 57,
     "metadata": {},
     "output_type": "execute_result"
    }
   ],
   "source": [
    "np.imag(com)"
   ]
  },
  {
   "cell_type": "code",
   "execution_count": 61,
   "id": "f1add9e9",
   "metadata": {},
   "outputs": [
    {
     "data": {
      "text/plain": [
       "array([ 5.-6.j, 10.+5.j])"
      ]
     },
     "execution_count": 61,
     "metadata": {},
     "output_type": "execute_result"
    }
   ],
   "source": [
    "\n",
    "np.conjugate(com)"
   ]
  },
  {
   "cell_type": "code",
   "execution_count": 69,
   "id": "14c0aeb4",
   "metadata": {},
   "outputs": [],
   "source": [
    "#cretaing using existing data\n",
    "#np.asarray()\n",
    "#np.copy()\n",
    "#np.frombuffer()\n",
    "#np.fromiter()\n",
    "\n",
    "#using the five important method we can change the input as an array"
   ]
  },
  {
   "cell_type": "code",
   "execution_count": 65,
   "id": "3eacaa04",
   "metadata": {},
   "outputs": [
    {
     "data": {
      "text/plain": [
       "array([1, 2, 3, 4, 5])"
      ]
     },
     "execution_count": 65,
     "metadata": {},
     "output_type": "execute_result"
    }
   ],
   "source": [
    "import numpy as np\n",
    "lst=[1,2,3,4,5]\n",
    "np.asarray(lst)"
   ]
  },
  {
   "cell_type": "code",
   "execution_count": 66,
   "id": "1061f546",
   "metadata": {},
   "outputs": [
    {
     "data": {
      "text/plain": [
       "array([4, 5, 6, 7, 8])"
      ]
     },
     "execution_count": 66,
     "metadata": {},
     "output_type": "execute_result"
    }
   ],
   "source": [
    "tuple=(4,5,6,7,8)\n",
    "np.asarray(tuple)"
   ]
  },
  {
   "cell_type": "code",
   "execution_count": 67,
   "id": "6aec7b08",
   "metadata": {},
   "outputs": [
    {
     "data": {
      "text/plain": [
       "array([[1, 2, 3],\n",
       "       [4, 5, 6]])"
      ]
     },
     "execution_count": 67,
     "metadata": {},
     "output_type": "execute_result"
    }
   ],
   "source": [
    "x=[(1,2,3),(4,5,6)]\n",
    "np.array(x)"
   ]
  },
  {
   "cell_type": "code",
   "execution_count": 70,
   "id": "8d6bd066",
   "metadata": {},
   "outputs": [
    {
     "name": "stdout",
     "output_type": "stream",
     "text": [
      "original arr [1 2 3 4 5]\n",
      "copy arr [1 2 3 4 5]\n"
     ]
    }
   ],
   "source": [
    "#use the copy method\n",
    "a=np.asarray([1,2,3,4,5])\n",
    "b=np.copy(a)\n",
    "print(\"original arr\",a)\n",
    "print(\"copy arr\",b)"
   ]
  },
  {
   "cell_type": "code",
   "execution_count": 106,
   "id": "38729da1",
   "metadata": {},
   "outputs": [
    {
     "data": {
      "text/plain": [
       "array([b'w', b'e', b'l', b'c', b'o', b'm', b'e'], dtype='|S1')"
      ]
     },
     "execution_count": 106,
     "metadata": {},
     "output_type": "execute_result"
    }
   ],
   "source": [
    "#frombuffer method\n",
    "value = b'welcome'\n",
    "np.frombuffer(value,dtype = 'S1')"
   ]
  },
  {
   "cell_type": "code",
   "execution_count": 73,
   "id": "b039b58d",
   "metadata": {},
   "outputs": [
    {
     "data": {
      "text/plain": [
       "array([0, 1, 2, 3, 4, 5, 6, 7, 8, 9])"
      ]
     },
     "execution_count": 73,
     "metadata": {},
     "output_type": "execute_result"
    }
   ],
   "source": [
    "#fromiter method\n",
    "iterable= range(10)\n",
    "np.fromiter(iterable,dtype=int)"
   ]
  },
  {
   "cell_type": "code",
   "execution_count": 76,
   "id": "174ab1ba",
   "metadata": {},
   "outputs": [
    {
     "data": {
      "text/plain": [
       "array([ 0.,  1.,  4.,  9., 16., 25., 36., 49., 64., 81.])"
      ]
     },
     "execution_count": 76,
     "metadata": {},
     "output_type": "execute_result"
    }
   ],
   "source": [
    "#example\n",
    "iterable = (x*x for x in range(10))\n",
    "np.fromiter(iterable,dtype = float)"
   ]
  },
  {
   "cell_type": "code",
   "execution_count": 81,
   "id": "625796fe",
   "metadata": {},
   "outputs": [
    {
     "name": "stdout",
     "output_type": "stream",
     "text": [
      "[ 0  1  2  3  4  5  6  7  8  9 10 11 12 13 14 15 16 17 18 19]\n",
      "[ 0.          0.84147098  0.90929743  0.14112001 -0.7568025  -0.95892427\n",
      " -0.2794155   0.6569866   0.98935825  0.41211849 -0.54402111 -0.99999021\n",
      " -0.53657292  0.42016704  0.99060736  0.65028784 -0.28790332 -0.96139749\n",
      " -0.75098725  0.14987721]\n"
     ]
    }
   ],
   "source": [
    "#mathematical functions\n",
    "import numpy as np\n",
    "x=np.arange(20)\n",
    "y=np.sin(x)\n",
    "print(x)\n",
    "print(y)"
   ]
  },
  {
   "cell_type": "code",
   "execution_count": 82,
   "id": "95562d2f",
   "metadata": {},
   "outputs": [
    {
     "data": {
      "text/plain": [
       "array([ 1.        ,  0.54030231, -0.41614684, -0.9899925 , -0.65364362,\n",
       "        0.28366219,  0.96017029,  0.75390225, -0.14550003, -0.91113026,\n",
       "       -0.83907153,  0.0044257 ,  0.84385396,  0.90744678,  0.13673722,\n",
       "       -0.75968791, -0.95765948, -0.27516334,  0.66031671,  0.98870462])"
      ]
     },
     "execution_count": 82,
     "metadata": {},
     "output_type": "execute_result"
    }
   ],
   "source": [
    "y=np.cos(x)\n",
    "y"
   ]
  },
  {
   "cell_type": "code",
   "execution_count": 83,
   "id": "39d6aa67",
   "metadata": {},
   "outputs": [
    {
     "data": {
      "text/plain": [
       "array([ 0.00000000e+00,  1.55740772e+00, -2.18503986e+00, -1.42546543e-01,\n",
       "        1.15782128e+00, -3.38051501e+00, -2.91006191e-01,  8.71447983e-01,\n",
       "       -6.79971146e+00, -4.52315659e-01,  6.48360827e-01, -2.25950846e+02,\n",
       "       -6.35859929e-01,  4.63021133e-01,  7.24460662e+00, -8.55993401e-01,\n",
       "        3.00632242e-01,  3.49391565e+00, -1.13731371e+00,  1.51589471e-01])"
      ]
     },
     "execution_count": 83,
     "metadata": {},
     "output_type": "execute_result"
    }
   ],
   "source": [
    "y=np.tan(x)\n",
    "y"
   ]
  },
  {
   "cell_type": "code",
   "execution_count": 86,
   "id": "d07438d9",
   "metadata": {},
   "outputs": [
    {
     "name": "stderr",
     "output_type": "stream",
     "text": [
      "Matplotlib is building the font cache; this may take a moment.\n"
     ]
    },
    {
     "name": "stdout",
     "output_type": "stream",
     "text": [
      "[ 0.   0.1  0.2  0.3  0.4  0.5  0.6  0.7  0.8  0.9  1.   1.1  1.2  1.3\n",
      "  1.4  1.5  1.6  1.7  1.8  1.9  2.   2.1  2.2  2.3  2.4  2.5  2.6  2.7\n",
      "  2.8  2.9  3.   3.1  3.2  3.3  3.4  3.5  3.6  3.7  3.8  3.9  4.   4.1\n",
      "  4.2  4.3  4.4  4.5  4.6  4.7  4.8  4.9  5.   5.1  5.2  5.3  5.4  5.5\n",
      "  5.6  5.7  5.8  5.9  6.   6.1  6.2  6.3  6.4  6.5  6.6  6.7  6.8  6.9\n",
      "  7.   7.1  7.2  7.3  7.4  7.5  7.6  7.7  7.8  7.9  8.   8.1  8.2  8.3\n",
      "  8.4  8.5  8.6  8.7  8.8  8.9  9.   9.1  9.2  9.3  9.4  9.5  9.6  9.7\n",
      "  9.8  9.9 10.  10.1 10.2 10.3 10.4 10.5 10.6 10.7 10.8 10.9 11.  11.1\n",
      " 11.2 11.3 11.4 11.5 11.6 11.7 11.8 11.9 12.  12.1 12.2 12.3 12.4 12.5]\n",
      "[ 0.          0.09983342  0.19866933  0.29552021  0.38941834  0.47942554\n",
      "  0.56464247  0.64421769  0.71735609  0.78332691  0.84147098  0.89120736\n",
      "  0.93203909  0.96355819  0.98544973  0.99749499  0.9995736   0.99166481\n",
      "  0.97384763  0.94630009  0.90929743  0.86320937  0.8084964   0.74570521\n",
      "  0.67546318  0.59847214  0.51550137  0.42737988  0.33498815  0.23924933\n",
      "  0.14112001  0.04158066 -0.05837414 -0.15774569 -0.2555411  -0.35078323\n",
      " -0.44252044 -0.52983614 -0.61185789 -0.68776616 -0.7568025  -0.81827711\n",
      " -0.87157577 -0.91616594 -0.95160207 -0.97753012 -0.993691   -0.99992326\n",
      " -0.99616461 -0.98245261 -0.95892427 -0.92581468 -0.88345466 -0.83226744\n",
      " -0.77276449 -0.70554033 -0.63126664 -0.55068554 -0.46460218 -0.37387666\n",
      " -0.2794155  -0.1821625  -0.0830894   0.0168139   0.1165492   0.21511999\n",
      "  0.31154136  0.40484992  0.49411335  0.57843976  0.6569866   0.72896904\n",
      "  0.79366786  0.85043662  0.8987081   0.93799998  0.96791967  0.98816823\n",
      "  0.99854335  0.99894134  0.98935825  0.96988981  0.94073056  0.90217183\n",
      "  0.85459891  0.79848711  0.7343971   0.66296923  0.58491719  0.50102086\n",
      "  0.41211849  0.31909836  0.22288991  0.12445442  0.02477543 -0.07515112\n",
      " -0.17432678 -0.27176063 -0.36647913 -0.45753589 -0.54402111 -0.62507065\n",
      " -0.69987469 -0.76768581 -0.82782647 -0.87969576 -0.92277542 -0.95663502\n",
      " -0.98093623 -0.99543625 -0.99999021 -0.99455259 -0.97917773 -0.95401925\n",
      " -0.91932853 -0.87545217 -0.82282859 -0.76198358 -0.69352508 -0.61813711\n",
      " -0.53657292 -0.44964746 -0.35822928 -0.26323179 -0.16560418 -0.0663219 ]\n"
     ]
    },
    {
     "data": {
      "image/png": "[encoded data removed]",
      "text/plain": [
       "<Figure size 640x480 with 1 Axes>"
      ]
     },
     "metadata": {},
     "output_type": "display_data"
    }
   ],
   "source": [
    "import matplotlib.pyplot as plt\n",
    "x=np.arange(0,4*np.pi,0.1) #start,stop,size\n",
    "y=np.sin(x)\n",
    "print(x)\n",
    "print(y)\n",
    "plt.plot(x,y)\n",
    "plt.show()"
   ]
  },
  {
   "cell_type": "code",
   "execution_count": 87,
   "id": "c0bcea9e",
   "metadata": {},
   "outputs": [
    {
     "name": "stdout",
     "output_type": "stream",
     "text": [
      "[1 2 3 4 5]\n",
      "[  2.71828183   7.3890561   20.08553692  54.59815003 148.4131591 ]\n"
     ]
    }
   ],
   "source": [
    "#exponent function exp(x)\n",
    "a = np.arange(1,6)\n",
    "print(a)\n",
    "print(np.exp(a))"
   ]
  },
  {
   "cell_type": "code",
   "execution_count": 88,
   "id": "a0359b49",
   "metadata": {},
   "outputs": [
    {
     "name": "stdout",
     "output_type": "stream",
     "text": [
      "[1 2 3 4 5]\n",
      "[0.         0.69314718 1.09861229 1.38629436 1.60943791]\n"
     ]
    }
   ],
   "source": [
    "#logarithms functions\n",
    "print(a)\n",
    "print(np.log(a))"
   ]
  },
  {
   "cell_type": "code",
   "execution_count": 89,
   "id": "8b36cdaa",
   "metadata": {},
   "outputs": [
    {
     "name": "stdout",
     "output_type": "stream",
     "text": [
      "[1.         1.41421356 1.73205081 2.         2.23606798]\n"
     ]
    }
   ],
   "source": [
    "#miscellanous\n",
    "#sqrt\n",
    "a=[1,2,3,4,5]\n",
    "print(np.sqrt(a))"
   ]
  },
  {
   "cell_type": "code",
   "execution_count": 91,
   "id": "4b897431",
   "metadata": {},
   "outputs": [
    {
     "name": "stdout",
     "output_type": "stream",
     "text": [
      "[ 1  4  9 16 25]\n"
     ]
    }
   ],
   "source": [
    "a=[1,2,3,4,5]\n",
    "print(np.square(a))"
   ]
  },
  {
   "cell_type": "code",
   "execution_count": 92,
   "id": "724bf467",
   "metadata": {},
   "outputs": [
    {
     "name": "stdout",
     "output_type": "stream",
     "text": [
      "1\n"
     ]
    }
   ],
   "source": [
    "#aggregate function #it is a function whre the values of multiple rows are grouped together to form single summaryvalue\n",
    "#min\n",
    "x=np.array([1,2,3,4,5,8])\n",
    "print(min(x))"
   ]
  },
  {
   "cell_type": "raw",
   "id": "798f3d51",
   "metadata": {},
   "source": []
  },
  {
   "cell_type": "code",
   "execution_count": 93,
   "id": "34d27692",
   "metadata": {},
   "outputs": [
    {
     "name": "stdout",
     "output_type": "stream",
     "text": [
      "8\n"
     ]
    }
   ],
   "source": [
    "x=np.array([1,2,3,4,5,8])\n",
    "print(max(x))"
   ]
  },
  {
   "cell_type": "code",
   "execution_count": 94,
   "id": "177a7a5b",
   "metadata": {},
   "outputs": [
    {
     "name": "stdout",
     "output_type": "stream",
     "text": [
      "[[15  1  0 12]\n",
      " [ 5 14  4  7]\n",
      " [13  4 14  7]\n",
      " [ 5  0  4  5]]\n",
      "[1 3 0 3]\n",
      "[0 1 2 0]\n"
     ]
    }
   ],
   "source": [
    "\n",
    "\n",
    "#argmin\n",
    "#argmax\n",
    "import numpy as np\n",
    "array=np.random.randint(16,size=(4,4))\n",
    "print(array)\n",
    "\n",
    "#axis=0 it means y axis(column wise)\n",
    "print(np.argmin(array,axis=0))\n",
    "\n",
    "#axis=1 it means x axis(row wise)\n",
    "print(np.argmax(array,axis=1))\n"
   ]
  },
  {
   "cell_type": "code",
   "execution_count": 95,
   "id": "71075411",
   "metadata": {},
   "outputs": [
    {
     "name": "stdout",
     "output_type": "stream",
     "text": [
      "sum of array: 10\n"
     ]
    }
   ],
   "source": [
    "#sum\n",
    "a=np.arange(5)\n",
    "print(\"sum of array:\",sum(a))"
   ]
  },
  {
   "cell_type": "code",
   "execution_count": 97,
   "id": "4bc7408f",
   "metadata": {},
   "outputs": [
    {
     "name": "stdout",
     "output_type": "stream",
     "text": [
      "[[ 8  2  8 14]\n",
      " [19 12  2 10]\n",
      " [12  4 11 12]\n",
      " [12 10 17 16]]\n",
      "[51 28 38 52]\n",
      "[32 43 39 55]\n"
     ]
    }
   ],
   "source": [
    "\n",
    "\n",
    "#sum(axis)\n",
    "array=np.random.randint(20,size=(4,4))\n",
    "print(array)\n",
    "#axis=0 it means y axis(column wise)\n",
    "print(np.sum(array,axis=0))\n",
    "\n",
    "#axis=1 it means x axis(row wise)\n",
    "print(np.sum(array,axis=1))"
   ]
  },
  {
   "cell_type": "code",
   "execution_count": null,
   "id": "27fa1eb7",
   "metadata": {},
   "outputs": [],
   "source": []
  }
 ],
 "metadata": {
  "kernelspec": {
   "display_name": "Python 3 (ipykernel)",
   "language": "python",
   "name": "python3"
  },
  "language_info": {
   "codemirror_mode": {
    "name": "ipython",
    "version": 3
   },
   "file_extension": ".py",
   "mimetype": "text/x-python",
   "name": "python",
   "nbconvert_exporter": "python",
   "pygments_lexer": "ipython3",
   "version": "3.11.5"
  }
 },
 "nbformat": 4,
 "nbformat_minor": 5
}
