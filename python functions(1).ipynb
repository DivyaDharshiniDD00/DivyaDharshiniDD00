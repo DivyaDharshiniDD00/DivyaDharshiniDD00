{
 "cells": [
  {
   "cell_type": "code",
   "execution_count": 2,
   "id": "0449ff0e",
   "metadata": {},
   "outputs": [
    {
     "name": "stdout",
     "output_type": "stream",
     "text": [
      "python wlecomes you\n"
     ]
    }
   ],
   "source": [
    "#functions\n",
    "#create using def() function\n",
    "def guys():\n",
    "    print(\"python wlecomes you\")\n",
    "    \n",
    "guys()"
   ]
  },
  {
   "cell_type": "code",
   "execution_count": 7,
   "id": "6f8d4654",
   "metadata": {},
   "outputs": [
    {
     "name": "stdout",
     "output_type": "stream",
     "text": [
      "google hi\n",
      "hari hi\n",
      "saturn hi\n"
     ]
    }
   ],
   "source": [
    " #information can be passed into function as arguments.\n",
    "def name(person):\n",
    "    print(person+ \" hi\")\n",
    "name(\"google\")\n",
    "name(\"hari\")\n",
    "name(\"saturn\")\n"
   ]
  },
  {
   "cell_type": "code",
   "execution_count": 12,
   "id": "52344976",
   "metadata": {},
   "outputs": [
    {
     "name": "stdout",
     "output_type": "stream",
     "text": [
      "ravi age is 20\n"
     ]
    }
   ],
   "source": [
    "#we can also pass number of arguments\n",
    "def school(student,age):\n",
    "    print(student+\" age is \"+ age)\n",
    "school(\"ravi\",\"20\")"
   ]
  },
  {
   "cell_type": "code",
   "execution_count": 16,
   "id": "dde368e5",
   "metadata": {},
   "outputs": [
    {
     "name": "stdout",
     "output_type": "stream",
     "text": [
      "the youngest child is din\n"
     ]
    }
   ],
   "source": [
    "#arguments *args\n",
    "#if you do not know how many arguments that will be passed into your function, add a* before the parameter name in the function\n",
    "def names(*kids):\n",
    "    print(\"the youngest child is \"+ kids[2])\n",
    "names(\"ravi\",\"ric\",\"din\",\"hari\")"
   ]
  },
  {
   "cell_type": "code",
   "execution_count": 18,
   "id": "25618995",
   "metadata": {},
   "outputs": [
    {
     "name": "stdout",
     "output_type": "stream",
     "text": [
      "his last name is din\n",
      "his last name is shine\n"
     ]
    }
   ],
   "source": [
    "#arguments **kwargs\n",
    "def names(**kid):\n",
    "    print('his last name is '+kid[\"lname\"])\n",
    "names(fname=\"dinu\",lname=\"din\")\n",
    "names(fname=\"sinu\",lname=\"shine\")"
   ]
  },
  {
   "cell_type": "code",
   "execution_count": 21,
   "id": "c2cf6d20",
   "metadata": {},
   "outputs": [
    {
     "name": "stdout",
     "output_type": "stream",
     "text": [
      "I am dinesh\n",
      "I am sinesh\n",
      "I am dinu\n",
      "I am hinesh\n",
      "I am jinesh\n"
     ]
    }
   ],
   "source": [
    "#default parameter value\n",
    "def function(name=\"dinu\"):\n",
    "    print('I am '+name)\n",
    "    \n",
    "function(\"dinesh\")\n",
    "function(\"sinesh\")\n",
    "function()\n",
    "function(\"hinesh\")\n",
    "function(\"jinesh\")"
   ]
  },
  {
   "cell_type": "code",
   "execution_count": 1,
   "id": "833b20af",
   "metadata": {},
   "outputs": [
    {
     "name": "stdout",
     "output_type": "stream",
     "text": [
      "kadar\n"
     ]
    }
   ],
   "source": [
    "#passing list argument\n",
    "def function(fruits):\n",
    "    for x in fruits:\n",
    "        print(x)\n",
    "        \n",
    "fruits=[\"kadar\"] \n",
    "\n",
    "function(fruits)"
   ]
  },
  {
   "cell_type": "code",
   "execution_count": 28,
   "id": "05ca2fec",
   "metadata": {},
   "outputs": [
    {
     "name": "stdout",
     "output_type": "stream",
     "text": [
      "6\n",
      "7\n",
      "8\n",
      "9\n",
      "10\n"
     ]
    }
   ],
   "source": [
    "#return values\n",
    "def function(x):\n",
    "    \n",
    "    return 5+x\n",
    "\n",
    "print(function(1))\n",
    "print(function(2))\n",
    "print(function(3))\n",
    "print(function(4))\n",
    "print(function(5))"
   ]
  },
  {
   "cell_type": "code",
   "execution_count": 29,
   "id": "9b036812",
   "metadata": {},
   "outputs": [],
   "source": [
    "#pass statment\n",
    "def function():\n",
    "    \n",
    "    pass"
   ]
  },
  {
   "cell_type": "code",
   "execution_count": 30,
   "id": "ba872e99",
   "metadata": {},
   "outputs": [
    {
     "ename": "SyntaxError",
     "evalue": "incomplete input (106006400.py, line 1)",
     "output_type": "error",
     "traceback": [
      "\u001b[1;36m  Cell \u001b[1;32mIn[30], line 1\u001b[1;36m\u001b[0m\n\u001b[1;33m    def function():\u001b[0m\n\u001b[1;37m                   ^\u001b[0m\n\u001b[1;31mSyntaxError\u001b[0m\u001b[1;31m:\u001b[0m incomplete input\n"
     ]
    }
   ],
   "source": [
    "def function():"
   ]
  },
  {
   "cell_type": "code",
   "execution_count": 33,
   "id": "0b848f3d",
   "metadata": {},
   "outputs": [
    {
     "name": "stdout",
     "output_type": "stream",
     "text": [
      "Enter a user namesakthi\n",
      "Enter a passwordkity123\n",
      "username or password is incorrect,please try again\n",
      "Enter a user namedinu\n",
      "Enter a passwordabc123\n",
      "dinu loginned in\n"
     ]
    }
   ],
   "source": [
    "#creating Login function\n",
    "\n",
    "def login(users):\n",
    "    while True:\n",
    "        username=input(\"Enter a user name\")\n",
    "        password=input(\"Enter a password\")\n",
    "        \n",
    "        for u in users:\n",
    "            if username == u[0]:\n",
    "                if password == u[1]:\n",
    "                    \n",
    "                    return username\n",
    "        else:\n",
    "            print(\"username or password is incorrect,please try again\")\n",
    "            \n",
    "            validusername= False\n",
    "users=[['dinu','abc123'],['jem','qwe123'],['dinu','asd123'],['ash','zxc123']]\n",
    "username= login(users)\n",
    "\n",
    "print(username,\"loginned in\")\n",
    "            "
   ]
  },
  {
   "cell_type": "code",
   "execution_count": 1,
   "id": "3d514ead",
   "metadata": {},
   "outputs": [
    {
     "name": "stdout",
     "output_type": "stream",
     "text": [
      "select the operators \n",
      "1.addition\n",
      "2.subtraction\n",
      "3.multiply\n",
      "4.divide\n",
      "\n",
      "select operation from 1,2,3,4=   5\n",
      "enter first number5\n",
      "enter second number5\n",
      "invalid input\n"
     ]
    }
   ],
   "source": [
    "#creating a basic calculator\n",
    "\n",
    "def add(num1,num2):\n",
    "    return num1+ num2     #x=num1+num2\n",
    "                            #print('value of x:',x)\n",
    "def sub(num1,num2):\n",
    "    return num1-num2\n",
    "def multiply(num1,num2):\n",
    "    return num1*num2\n",
    "def divide(num1,num2):\n",
    "    return num1/num2\n",
    "\n",
    "print(\"select the operators \\n\"\\\n",
    "     \"1.addition\\n\"\\\n",
    "     '2.subtraction\\n'\\\n",
    "     '3.multiply\\n'\\\n",
    "     '4.divide\\n')\n",
    "#take input from the user\n",
    "select=int(input(\"select operation from 1,2,3,4=   \"))\n",
    "a1= int(input(\"enter first number\"))\n",
    "a2= int(input(\"enter second number\"))\n",
    "if select==1:\n",
    "    print(a1,\"+\",a2,\"=\",add(a1,a2))\n",
    "elif select==2:\n",
    "    print(a1,\"-\",a2,\"=\",sub(a1,a2))\n",
    "elif select==3:\n",
    "    print(a1,\"*\",a2,\"=\",multiply(a1,a2))\n",
    "elif select==4:\n",
    "    print(a1,\"/\",a2,\"=\",divide(a1,a2))\n",
    "else:\n",
    "    print(\"invalid input\")"
   ]
  },
  {
   "cell_type": "code",
   "execution_count": null,
   "id": "da6bc6a5",
   "metadata": {},
   "outputs": [],
   "source": []
  },
  {
   "cell_type": "code",
   "execution_count": null,
   "id": "1021e463",
   "metadata": {},
   "outputs": [],
   "source": []
  }
 ],
 "metadata": {
  "kernelspec": {
   "display_name": "Python 3 (ipykernel)",
   "language": "python",
   "name": "python3"
  },
  "language_info": {
   "codemirror_mode": {
    "name": "ipython",
    "version": 3
   },
   "file_extension": ".py",
   "mimetype": "text/x-python",
   "name": "python",
   "nbconvert_exporter": "python",
   "pygments_lexer": "ipython3",
   "version": "3.11.5"
  }
 },
 "nbformat": 4,
 "nbformat_minor": 5
}
