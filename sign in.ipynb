{
 "cells": [
  {
   "cell_type": "code",
   "execution_count": 2,
   "id": "f8d1f88e",
   "metadata": {},
   "outputs": [
    {
     "name": "stdout",
     "output_type": "stream",
     "text": [
      "select the operations \n",
      "1.add\n",
      "2.subtract\n",
      "3.multiply\n",
      "4.divide\n",
      "\n",
      "select operation from 1,2,3,4:3\n",
      "Enter first number3\n",
      "Enter second number4\n",
      "3 * 4 = 12\n"
     ]
    }
   ],
   "source": [
    "def add(num1,num2):\n",
    "    return num1+num2\n",
    "\n",
    "def sub(num1,num2):\n",
    "    return num1-num2\n",
    "def multiply(num1,num2):\n",
    "    return num1*num2\n",
    "def divide(num,num2):\n",
    "    return num1/num2\n",
    "\n",
    "print(\"select the operations \\n\"\\\n",
    "      \"1.add\\n\" \\\n",
    "      \"2.subtract\\n\" \\\n",
    "      \"3.multiply\\n\" \\\n",
    "      \"4.divide\\n\")\n",
    "\n",
    "#take input from the user\n",
    "select=int(input(\"select operation from 1,2,3,4:\"))\n",
    "number_1=int(input(\"Enter first number\"))\n",
    "number_2=int(input(\"Enter second number\"))\n",
    "if select==1:\n",
    "    print(number_1,\"+\",number_2,\"=\",add(number_1,number_2))\n",
    "elif select==2:\n",
    "     print(number_1,\"-\",number_2,\"=\",sub(number_1,number_2))\n",
    "elif select==3:\n",
    "     print(number_1,\"*\",number_2,\"=\",multiply(number_1,number_2))\n",
    "elif select==4:\n",
    "     print(number_1,\"/\",number_2,\"=\",divide(number_1,number_2))\n",
    "else:\n",
    "    print(\"Invalid input\")\n",
    "    \n",
    "    "
   ]
  },
  {
   "cell_type": "code",
   "execution_count": null,
   "id": "d6bb609b",
   "metadata": {},
   "outputs": [
    {
     "name": "stdout",
     "output_type": "stream",
     "text": [
      "Please enter a username:divya\n",
      "Please enter a password:oo99\n",
      "username or password is incorrect,please try again\n",
      "Please enter a username:dhewa\n",
      "Please enter a password:dhewss003 \n",
      "username or password is incorrect,please try again\n"
     ]
    }
   ],
   "source": [
    "#creating login in function\n",
    "def login(users):\n",
    "    while True:\n",
    "        username=input(\"Please enter a username:\")\n",
    "        password=input(\"Please enter a password:\")\n",
    "        \n",
    "        for u in users:\n",
    "            if username==u[0]:\n",
    "                if password==u[1]:\n",
    "                    \n",
    "                    return username\n",
    "        else:\n",
    "            print(\"username or password is incorrect,please try again\")\n",
    "            \n",
    "        validusername=False\n",
    "        \n",
    "users=[['divya','divi123'],['dhewa','dhewss003']]\n",
    "username=login(users)\n",
    "\n",
    "print(username,\"loginned in\")"
   ]
  },
  {
   "cell_type": "code",
   "execution_count": null,
   "id": "05396eb6",
   "metadata": {},
   "outputs": [],
   "source": []
  },
  {
   "cell_type": "code",
   "execution_count": null,
   "id": "9c16fae6",
   "metadata": {},
   "outputs": [],
   "source": []
  },
  {
   "cell_type": "code",
   "execution_count": null,
   "id": "00358e26",
   "metadata": {},
   "outputs": [],
   "source": []
  },
  {
   "cell_type": "code",
   "execution_count": null,
   "id": "8aebf2c1",
   "metadata": {},
   "outputs": [],
   "source": []
  }
 ],
 "metadata": {
  "kernelspec": {
   "display_name": "Python 3 (ipykernel)",
   "language": "python",
   "name": "python3"
  },
  "language_info": {
   "codemirror_mode": {
    "name": "ipython",
    "version": 3
   },
   "file_extension": ".py",
   "mimetype": "text/x-python",
   "name": "python",
   "nbconvert_exporter": "python",
   "pygments_lexer": "ipython3",
   "version": "3.11.5"
  }
 },
 "nbformat": 4,
 "nbformat_minor": 5
}
